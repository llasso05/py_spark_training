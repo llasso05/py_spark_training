{
 "cells": [
  {
   "cell_type": "code",
   "execution_count": 2,
   "metadata": {},
   "outputs": [],
   "source": [
    "import findspark\n",
    "findspark.init()\n",
    "from pyspark.sql import SparkSession"
   ]
  },
  {
   "cell_type": "code",
   "execution_count": 13,
   "metadata": {},
   "outputs": [],
   "source": [
    "spark = SparkSession.builder.appName('Basics').getOrCreate()"
   ]
  },
  {
   "cell_type": "code",
   "execution_count": 14,
   "metadata": {},
   "outputs": [],
   "source": [
    "df = spark.read.csv('laptops.csv', header='true')"
   ]
  },
  {
   "cell_type": "code",
   "execution_count": 15,
   "metadata": {},
   "outputs": [
    {
     "name": "stdout",
     "output_type": "stream",
     "text": [
      "+-----+-------+--------------------+------+------+---------------+--------------+---------+-----------+----------+--------------------+------------------------+----------------------+--------------------------+---------+----------+---------------+------------+----------------+-----------------+-------+----------------+\n",
      "|index|  brand|               Model| Price|Rating|processor_brand|processor_tier|num_cores|num_threads|ram_memory|primary_storage_type|primary_storage_capacity|secondary_storage_type|secondary_storage_capacity|gpu_brand|  gpu_type|is_touch_screen|display_size|resolution_width|resolution_height|     OS|year_of_warranty|\n",
      "+-----+-------+--------------------+------+------+---------------+--------------+---------+-----------+----------+--------------------+------------------------+----------------------+--------------------------+---------+----------+---------------+------------+----------------+-----------------+-------+----------------+\n",
      "|    1|  tecno|Tecno Megabook T1...| 23990|    63|          intel|       core i3|        2|          4|         8|                 SSD|                     512|  No secondary storage|                         0|    intel|integrated|          False|        15.6|            1920|             1080|windows|               1|\n",
      "|    2|  tecno|Tecno Megabook T1...| 35990|    67|          intel|       core i7|        4|          8|        16|                 SSD|                    1024|  No secondary storage|                         0|    intel|integrated|          False|        15.6|            1920|             1080|windows|               1|\n",
      "|    3|     hp|HP Victus 15-fb01...| 51100|    73|            amd|       ryzen 5|        6|         12|         8|                 SSD|                     512|  No secondary storage|                         0|      amd| dedicated|          False|        15.6|            1920|             1080|windows|               1|\n",
      "|    4|   acer|Acer Extensa EX21...| 39990|    62|          intel|       core i5|       12|         16|         8|                 SSD|                     512|  No secondary storage|                         0|    intel|integrated|          False|        14.0|            1920|             1080|windows|               1|\n",
      "|    5| lenovo|Lenovo V15 82KDA0...| 28580|    62|            amd|       ryzen 3|        4|          8|         8|                 SSD|                     512|  No secondary storage|                         0|      amd|integrated|          False|        15.6|            1920|             1080|windows|               1|\n",
      "|    6|  apple|Apple MacBook Air...| 70990|    45|          apple|            m1|        8|          8|         8|                 SSD|                     256|  No secondary storage|                         0|    apple|     apple|          False|        13.3|            2560|             1600|    mac|               1|\n",
      "|    7|infinix|Infinix INBook Y2...| 34990|    56|          intel|       core i5|        4|          8|        16|                 SSD|                     512|  No secondary storage|                         0|    intel|integrated|          False|        15.6|            1920|             1080|windows|               1|\n",
      "|    8|   asus|Asus TUF Gaming F...| 49990|    70|          intel|       core i5|        6|         12|         8|                 SSD|                     512|  No secondary storage|                         0|   nvidia| dedicated|          False|        15.6|            1920|             1080|windows|               1|\n",
      "|    9|     hp|HP 15s-fq5007TU L...| 36990|    60|          intel|       core i3|        6|          8|         8|                 SSD|                     512|  No secondary storage|                         0|    intel|integrated|          False|        15.6|            1920|             1080|windows|               1|\n",
      "|   10|infinix|Infinix Zerobook ...| 59990|    71|          intel|       core i9|       14|         20|        32|                 SSD|                    1024|  No secondary storage|                         0|    intel|integrated|          False|        15.6|            1920|             1080|windows|               1|\n",
      "|   11|   dell|Dell Inspiron 352...| 34990|    60|          intel|       core i3|        6|          8|         8|                 SSD|                     512|  No secondary storage|                         0|    intel|integrated|          False|        15.6|            1920|             1080|windows|               1|\n",
      "|   12|samsung|Samsung Galaxy Bo...| 64990|    68|          intel|       core i5|       12|         16|        16|                 SSD|                     512|  No secondary storage|                         0|    intel|integrated|          False|        13.3|            1080|             1920|windows|               1|\n",
      "|   13|    msi|MSI Thin GF63 12U...| 52990|    71|          intel|       core i5|        8|         12|        16|                 SSD|                     512|  No secondary storage|                         0|   nvidia| dedicated|          False|        15.6|            1920|             1080|windows|               2|\n",
      "|   14|   asus|Asus Vivobook 16X...| 57390|    71|            amd|       ryzen 7|        8|         16|        16|                 SSD|                     512|  No secondary storage|                         0|      amd|integrated|          False|        16.0|            1920|             1200|windows|               1|\n",
      "|   15| lenovo|Lenovo IdeaPad Sl...| 47490|    66|          intel|       core i5|        4|          8|        16|                 SSD|                     512|  No secondary storage|                         0|    intel|integrated|          False|        15.6|            1920|             1080|windows|               1|\n",
      "|   16|     hp|HP Omen 16-wf1025...|153990|    85|          intel|       core i7|       20|         28|        16|                 SSD|                    1024|  No secondary storage|                         0|   nvidia| dedicated|          False|        16.1|            2560|             1440|windows|               1|\n",
      "|   17| lenovo|Lenovo V15 G3 IAP...| 49990|    59|          intel|       core i7|       10|         12|        16|                 SSD|                     512|  No secondary storage|                         0|    intel|integrated|          False|        15.6|            1920|             1080|windows|               1|\n",
      "|   18|   asus|Asus TUF Gaming F...| 75990|    76|          intel|       core i7|        8|         16|        16|                 SSD|                    1024|  No secondary storage|                         0|   nvidia| dedicated|          False|        15.6|            1920|             1080|windows|               1|\n",
      "|   19|     hp|HP Victus 15-fb10...| 55490|    71|            amd|       ryzen 5|        6|         12|        16|                 SSD|                     512|  No secondary storage|                         0|   nvidia| dedicated|          False|        15.6|            1920|             1080|windows|               1|\n",
      "|   20|  wings|Wings Nuvobook V1...| 27990|    56|          intel|       core i5|        4|          8|         8|                 SSD|                     512|  No secondary storage|                         0|    intel|integrated|          False|        15.6|            1080|             1920|windows|               1|\n",
      "+-----+-------+--------------------+------+------+---------------+--------------+---------+-----------+----------+--------------------+------------------------+----------------------+--------------------------+---------+----------+---------------+------------+----------------+-----------------+-------+----------------+\n",
      "only showing top 20 rows\n",
      "\n"
     ]
    }
   ],
   "source": [
    "df.show()"
   ]
  },
  {
   "cell_type": "code",
   "execution_count": 16,
   "metadata": {},
   "outputs": [
    {
     "name": "stdout",
     "output_type": "stream",
     "text": [
      "root\n",
      " |-- index: string (nullable = true)\n",
      " |-- brand: string (nullable = true)\n",
      " |-- Model: string (nullable = true)\n",
      " |-- Price: string (nullable = true)\n",
      " |-- Rating: string (nullable = true)\n",
      " |-- processor_brand: string (nullable = true)\n",
      " |-- processor_tier: string (nullable = true)\n",
      " |-- num_cores: string (nullable = true)\n",
      " |-- num_threads: string (nullable = true)\n",
      " |-- ram_memory: string (nullable = true)\n",
      " |-- primary_storage_type: string (nullable = true)\n",
      " |-- primary_storage_capacity: string (nullable = true)\n",
      " |-- secondary_storage_type: string (nullable = true)\n",
      " |-- secondary_storage_capacity: string (nullable = true)\n",
      " |-- gpu_brand: string (nullable = true)\n",
      " |-- gpu_type: string (nullable = true)\n",
      " |-- is_touch_screen: string (nullable = true)\n",
      " |-- display_size: string (nullable = true)\n",
      " |-- resolution_width: string (nullable = true)\n",
      " |-- resolution_height: string (nullable = true)\n",
      " |-- OS: string (nullable = true)\n",
      " |-- year_of_warranty: string (nullable = true)\n",
      "\n"
     ]
    }
   ],
   "source": [
    "df.printSchema()"
   ]
  },
  {
   "cell_type": "code",
   "execution_count": 17,
   "metadata": {},
   "outputs": [
    {
     "data": {
      "text/plain": [
       "['index',\n",
       " 'brand',\n",
       " 'Model',\n",
       " 'Price',\n",
       " 'Rating',\n",
       " 'processor_brand',\n",
       " 'processor_tier',\n",
       " 'num_cores',\n",
       " 'num_threads',\n",
       " 'ram_memory',\n",
       " 'primary_storage_type',\n",
       " 'primary_storage_capacity',\n",
       " 'secondary_storage_type',\n",
       " 'secondary_storage_capacity',\n",
       " 'gpu_brand',\n",
       " 'gpu_type',\n",
       " 'is_touch_screen',\n",
       " 'display_size',\n",
       " 'resolution_width',\n",
       " 'resolution_height',\n",
       " 'OS',\n",
       " 'year_of_warranty']"
      ]
     },
     "execution_count": 17,
     "metadata": {},
     "output_type": "execute_result"
    }
   ],
   "source": [
    "df.columns"
   ]
  },
  {
   "cell_type": "code",
   "execution_count": 18,
   "metadata": {},
   "outputs": [
    {
     "data": {
      "text/plain": [
       "DataFrame[summary: string, index: string, brand: string, Model: string, Price: string, Rating: string, processor_brand: string, processor_tier: string, num_cores: string, num_threads: string, ram_memory: string, primary_storage_type: string, primary_storage_capacity: string, secondary_storage_type: string, secondary_storage_capacity: string, gpu_brand: string, gpu_type: string, is_touch_screen: string, display_size: string, resolution_width: string, resolution_height: string, OS: string, year_of_warranty: string]"
      ]
     },
     "execution_count": 18,
     "metadata": {},
     "output_type": "execute_result"
    }
   ],
   "source": [
    "df.describe()"
   ]
  },
  {
   "cell_type": "code",
   "execution_count": 19,
   "metadata": {},
   "outputs": [
    {
     "name": "stdout",
     "output_type": "stream",
     "text": [
      "+-------+------------------+---------+--------------------+-----------------+-----------------+---------------+--------------+-----------------+------------------+------------------+--------------------+------------------------+----------------------+--------------------------+---------+----------+---------------+------------------+------------------+------------------+-------+------------------+\n",
      "|summary|             index|    brand|               Model|            Price|           Rating|processor_brand|processor_tier|        num_cores|       num_threads|        ram_memory|primary_storage_type|primary_storage_capacity|secondary_storage_type|secondary_storage_capacity|gpu_brand|  gpu_type|is_touch_screen|      display_size|  resolution_width| resolution_height|     OS|  year_of_warranty|\n",
      "+-------+------------------+---------+--------------------+-----------------+-----------------+---------------+--------------+-----------------+------------------+------------------+--------------------+------------------------+----------------------+--------------------------+---------+----------+---------------+------------------+------------------+------------------+-------+------------------+\n",
      "|  count|               991|      991|                 991|              991|              991|            991|           991|              991|               991|               991|                 991|                     991|                   991|                       991|      991|       991|            991|               991|               991|               991|    991|               991|\n",
      "|   mean|505.86074672048437|     NULL|                NULL|77266.50454086781| 63.9313824419778|           NULL|          NULL|8.128153380423814|12.191725529767911|13.047426841574168|                NULL|       610.9384460141272|                  NULL|         4.004036326942482|     NULL|      NULL|           NULL|15.171241170534934|2003.5035317860747|1181.2270433905146|   NULL|1.0853031860226106|\n",
      "| stddev| 287.8994577290029|     NULL|                NULL|57384.91026940801|10.19057467110308|           NULL|          NULL|4.215498642957193| 5.585114790365519| 5.591188137266451|                NULL|       266.9276662984985|                  NULL|         33.55393643610649|     NULL|      NULL|           NULL|0.9380887368163304|361.96529179226764| 263.8840193569074|   NULL|0.3141384382643878|\n",
      "|    min|                 1|     acer|ASUS TUF Gaming A...|           100190|               24|            amd|       celeron|               10|                 0|                12|                 HDD|                    1024|  No secondary storage|                         0|      amd|     apple|          False|              10.1|              1080|              1024|android|                 1|\n",
      "|    max|               999|zebronics|iBall Excelance C...|            99999|               89|          other|       ryzen 9|                8|                 8|                 8|                 SSD|                      64|                   SSD|                       512|   nvidia|integrated|           True|              18.0|              3840|               800|windows|    No information|\n",
      "+-------+------------------+---------+--------------------+-----------------+-----------------+---------------+--------------+-----------------+------------------+------------------+--------------------+------------------------+----------------------+--------------------------+---------+----------+---------------+------------------+------------------+------------------+-------+------------------+\n",
      "\n"
     ]
    }
   ],
   "source": [
    "df.describe().show()"
   ]
  },
  {
   "cell_type": "code",
   "execution_count": 23,
   "metadata": {},
   "outputs": [],
   "source": [
    "from pyspark.sql.types import StructField, StringType, IntegerType, StructType, FloatType"
   ]
  },
  {
   "cell_type": "code",
   "execution_count": 53,
   "metadata": {},
   "outputs": [],
   "source": [
    "# by importing data types you can define the schemas before importing the dataframe\n",
    "# if a column is not in the defined schema it will not load itself into the dataframe\n",
    "data_schema = [StructField('index',StringType(), True),\n",
    "               StructField('brand',StringType(), True),\n",
    "               StructField('Model',StringType(), True),\n",
    "               StructField('Price',IntegerType(), True),\n",
    "               StructField('rating',IntegerType(), True),\n",
    "               StructField('processor_brand',StringType(), True),\n",
    "               StructField('processor_tier',StringType(), True),\n",
    "               StructField('num_cores',IntegerType(), True),\n",
    "               StructField('num_threads',IntegerType(), True),\n",
    "               StructField('ram_memory',IntegerType(), True),\n",
    "               StructField('primary_storage_type',StringType(), True),\n",
    "               StructField('primary_storage_capacity',IntegerType(), True),\n",
    "               StructField('secondary_storage_type',StringType(), True),\n",
    "               StructField('secondary_storage_capacity',IntegerType(), True),\n",
    "               StructField('gpu_brand',StringType(), True),\n",
    "               StructField('gpu_type',StringType(), True),\n",
    "               StructField('is_touch_screen',StringType(), True),\n",
    "               StructField('display_size',FloatType(), True),\n",
    "               StructField('resolution_width',IntegerType(), True),\n",
    "               StructField('resolution_height',IntegerType(), True),\n",
    "               StructField('OS',StringType(), True),\n",
    "               StructField('year_of_warranty',StringType(), True)\n",
    "               ]"
   ]
  },
  {
   "cell_type": "code",
   "execution_count": 54,
   "metadata": {},
   "outputs": [],
   "source": [
    "final_struc = StructType(fields=data_schema)"
   ]
  },
  {
   "cell_type": "code",
   "execution_count": 55,
   "metadata": {},
   "outputs": [],
   "source": [
    "df = spark.read.csv('laptops.csv', header='true', schema=final_struc)"
   ]
  },
  {
   "cell_type": "code",
   "execution_count": 57,
   "metadata": {},
   "outputs": [
    {
     "name": "stdout",
     "output_type": "stream",
     "text": [
      "root\n",
      " |-- index: string (nullable = true)\n",
      " |-- brand: string (nullable = true)\n",
      " |-- Model: string (nullable = true)\n",
      " |-- Price: integer (nullable = true)\n",
      " |-- rating: integer (nullable = true)\n",
      " |-- processor_brand: string (nullable = true)\n",
      " |-- processor_tier: string (nullable = true)\n",
      " |-- num_cores: integer (nullable = true)\n",
      " |-- num_threads: integer (nullable = true)\n",
      " |-- ram_memory: integer (nullable = true)\n",
      " |-- primary_storage_type: string (nullable = true)\n",
      " |-- primary_storage_capacity: integer (nullable = true)\n",
      " |-- secondary_storage_type: string (nullable = true)\n",
      " |-- secondary_storage_capacity: integer (nullable = true)\n",
      " |-- gpu_brand: string (nullable = true)\n",
      " |-- gpu_type: string (nullable = true)\n",
      " |-- is_touch_screen: string (nullable = true)\n",
      " |-- display_size: float (nullable = true)\n",
      " |-- resolution_width: integer (nullable = true)\n",
      " |-- resolution_height: integer (nullable = true)\n",
      " |-- OS: string (nullable = true)\n",
      " |-- year_of_warranty: string (nullable = true)\n",
      "\n"
     ]
    }
   ],
   "source": [
    "df.printSchema()"
   ]
  },
  {
   "cell_type": "code",
   "execution_count": 58,
   "metadata": {},
   "outputs": [
    {
     "name": "stdout",
     "output_type": "stream",
     "text": [
      "+-----+-------+--------------------+------+------+---------------+--------------+---------+-----------+----------+--------------------+------------------------+----------------------+--------------------------+---------+----------+---------------+------------+----------------+-----------------+-------+----------------+\n",
      "|index|  brand|               Model| Price|rating|processor_brand|processor_tier|num_cores|num_threads|ram_memory|primary_storage_type|primary_storage_capacity|secondary_storage_type|secondary_storage_capacity|gpu_brand|  gpu_type|is_touch_screen|display_size|resolution_width|resolution_height|     OS|year_of_warranty|\n",
      "+-----+-------+--------------------+------+------+---------------+--------------+---------+-----------+----------+--------------------+------------------------+----------------------+--------------------------+---------+----------+---------------+------------+----------------+-----------------+-------+----------------+\n",
      "|    1|  tecno|Tecno Megabook T1...| 23990|    63|          intel|       core i3|        2|          4|         8|                 SSD|                     512|  No secondary storage|                         0|    intel|integrated|          False|        15.6|            1920|             1080|windows|               1|\n",
      "|    2|  tecno|Tecno Megabook T1...| 35990|    67|          intel|       core i7|        4|          8|        16|                 SSD|                    1024|  No secondary storage|                         0|    intel|integrated|          False|        15.6|            1920|             1080|windows|               1|\n",
      "|    3|     hp|HP Victus 15-fb01...| 51100|    73|            amd|       ryzen 5|        6|         12|         8|                 SSD|                     512|  No secondary storage|                         0|      amd| dedicated|          False|        15.6|            1920|             1080|windows|               1|\n",
      "|    4|   acer|Acer Extensa EX21...| 39990|    62|          intel|       core i5|       12|         16|         8|                 SSD|                     512|  No secondary storage|                         0|    intel|integrated|          False|        14.0|            1920|             1080|windows|               1|\n",
      "|    5| lenovo|Lenovo V15 82KDA0...| 28580|    62|            amd|       ryzen 3|        4|          8|         8|                 SSD|                     512|  No secondary storage|                         0|      amd|integrated|          False|        15.6|            1920|             1080|windows|               1|\n",
      "|    6|  apple|Apple MacBook Air...| 70990|    45|          apple|            m1|        8|          8|         8|                 SSD|                     256|  No secondary storage|                         0|    apple|     apple|          False|        13.3|            2560|             1600|    mac|               1|\n",
      "|    7|infinix|Infinix INBook Y2...| 34990|    56|          intel|       core i5|        4|          8|        16|                 SSD|                     512|  No secondary storage|                         0|    intel|integrated|          False|        15.6|            1920|             1080|windows|               1|\n",
      "|    8|   asus|Asus TUF Gaming F...| 49990|    70|          intel|       core i5|        6|         12|         8|                 SSD|                     512|  No secondary storage|                         0|   nvidia| dedicated|          False|        15.6|            1920|             1080|windows|               1|\n",
      "|    9|     hp|HP 15s-fq5007TU L...| 36990|    60|          intel|       core i3|        6|          8|         8|                 SSD|                     512|  No secondary storage|                         0|    intel|integrated|          False|        15.6|            1920|             1080|windows|               1|\n",
      "|   10|infinix|Infinix Zerobook ...| 59990|    71|          intel|       core i9|       14|         20|        32|                 SSD|                    1024|  No secondary storage|                         0|    intel|integrated|          False|        15.6|            1920|             1080|windows|               1|\n",
      "|   11|   dell|Dell Inspiron 352...| 34990|    60|          intel|       core i3|        6|          8|         8|                 SSD|                     512|  No secondary storage|                         0|    intel|integrated|          False|        15.6|            1920|             1080|windows|               1|\n",
      "|   12|samsung|Samsung Galaxy Bo...| 64990|    68|          intel|       core i5|       12|         16|        16|                 SSD|                     512|  No secondary storage|                         0|    intel|integrated|          False|        13.3|            1080|             1920|windows|               1|\n",
      "|   13|    msi|MSI Thin GF63 12U...| 52990|    71|          intel|       core i5|        8|         12|        16|                 SSD|                     512|  No secondary storage|                         0|   nvidia| dedicated|          False|        15.6|            1920|             1080|windows|               2|\n",
      "|   14|   asus|Asus Vivobook 16X...| 57390|    71|            amd|       ryzen 7|        8|         16|        16|                 SSD|                     512|  No secondary storage|                         0|      amd|integrated|          False|        16.0|            1920|             1200|windows|               1|\n",
      "|   15| lenovo|Lenovo IdeaPad Sl...| 47490|    66|          intel|       core i5|        4|          8|        16|                 SSD|                     512|  No secondary storage|                         0|    intel|integrated|          False|        15.6|            1920|             1080|windows|               1|\n",
      "|   16|     hp|HP Omen 16-wf1025...|153990|    85|          intel|       core i7|       20|         28|        16|                 SSD|                    1024|  No secondary storage|                         0|   nvidia| dedicated|          False|        16.1|            2560|             1440|windows|               1|\n",
      "|   17| lenovo|Lenovo V15 G3 IAP...| 49990|    59|          intel|       core i7|       10|         12|        16|                 SSD|                     512|  No secondary storage|                         0|    intel|integrated|          False|        15.6|            1920|             1080|windows|               1|\n",
      "|   18|   asus|Asus TUF Gaming F...| 75990|    76|          intel|       core i7|        8|         16|        16|                 SSD|                    1024|  No secondary storage|                         0|   nvidia| dedicated|          False|        15.6|            1920|             1080|windows|               1|\n",
      "|   19|     hp|HP Victus 15-fb10...| 55490|    71|            amd|       ryzen 5|        6|         12|        16|                 SSD|                     512|  No secondary storage|                         0|   nvidia| dedicated|          False|        15.6|            1920|             1080|windows|               1|\n",
      "|   20|  wings|Wings Nuvobook V1...| 27990|    56|          intel|       core i5|        4|          8|         8|                 SSD|                     512|  No secondary storage|                         0|    intel|integrated|          False|        15.6|            1080|             1920|windows|               1|\n",
      "+-----+-------+--------------------+------+------+---------------+--------------+---------+-----------+----------+--------------------+------------------------+----------------------+--------------------------+---------+----------+---------------+------------+----------------+-----------------+-------+----------------+\n",
      "only showing top 20 rows\n",
      "\n"
     ]
    }
   ],
   "source": [
    "df.show()"
   ]
  },
  {
   "cell_type": "code",
   "execution_count": 60,
   "metadata": {},
   "outputs": [
    {
     "data": {
      "text/plain": [
       "pyspark.sql.column.Column"
      ]
     },
     "execution_count": 60,
     "metadata": {},
     "output_type": "execute_result"
    }
   ],
   "source": [
    "type(df['rating'])"
   ]
  },
  {
   "cell_type": "code",
   "execution_count": 62,
   "metadata": {},
   "outputs": [
    {
     "name": "stdout",
     "output_type": "stream",
     "text": [
      "+------+\n",
      "|rating|\n",
      "+------+\n",
      "|    63|\n",
      "|    67|\n",
      "|    73|\n",
      "|    62|\n",
      "|    62|\n",
      "|    45|\n",
      "|    56|\n",
      "|    70|\n",
      "|    60|\n",
      "|    71|\n",
      "|    60|\n",
      "|    68|\n",
      "|    71|\n",
      "|    71|\n",
      "|    66|\n",
      "|    85|\n",
      "|    59|\n",
      "|    76|\n",
      "|    71|\n",
      "|    56|\n",
      "+------+\n",
      "only showing top 20 rows\n",
      "\n"
     ]
    }
   ],
   "source": [
    "df.select('rating').show()"
   ]
  },
  {
   "cell_type": "code",
   "execution_count": 63,
   "metadata": {},
   "outputs": [
    {
     "data": {
      "text/plain": [
       "[Row(index='1', brand='tecno', Model='Tecno Megabook T1 Laptop (11th Gen Core i3/ 8GB/ 512GB SSD/ Win11 Home)', Price=23990, rating=63, processor_brand='intel', processor_tier='core i3', num_cores=2, num_threads=4, ram_memory=8, primary_storage_type='SSD', primary_storage_capacity=512, secondary_storage_type='No secondary storage', secondary_storage_capacity=0, gpu_brand='intel', gpu_type='integrated', is_touch_screen='False', display_size=15.600000381469727, resolution_width=1920, resolution_height=1080, OS='windows', year_of_warranty='1'),\n",
       " Row(index='2', brand='tecno', Model='Tecno Megabook T1 Laptop (11th Gen Core i7/ 16GB/ 1TB SSD/ Win11 Home)', Price=35990, rating=67, processor_brand='intel', processor_tier='core i7', num_cores=4, num_threads=8, ram_memory=16, primary_storage_type='SSD', primary_storage_capacity=1024, secondary_storage_type='No secondary storage', secondary_storage_capacity=0, gpu_brand='intel', gpu_type='integrated', is_touch_screen='False', display_size=15.600000381469727, resolution_width=1920, resolution_height=1080, OS='windows', year_of_warranty='1')]"
      ]
     },
     "execution_count": 63,
     "metadata": {},
     "output_type": "execute_result"
    }
   ],
   "source": [
    "df.head(2)"
   ]
  },
  {
   "cell_type": "code",
   "execution_count": 66,
   "metadata": {},
   "outputs": [
    {
     "data": {
      "text/plain": [
       "Row(index='2', brand='tecno', Model='Tecno Megabook T1 Laptop (11th Gen Core i7/ 16GB/ 1TB SSD/ Win11 Home)', Price=35990, rating=67, processor_brand='intel', processor_tier='core i7', num_cores=4, num_threads=8, ram_memory=16, primary_storage_type='SSD', primary_storage_capacity=1024, secondary_storage_type='No secondary storage', secondary_storage_capacity=0, gpu_brand='intel', gpu_type='integrated', is_touch_screen='False', display_size=15.600000381469727, resolution_width=1920, resolution_height=1080, OS='windows', year_of_warranty='1')"
      ]
     },
     "execution_count": 66,
     "metadata": {},
     "output_type": "execute_result"
    }
   ],
   "source": [
    "df.head(2)[1]"
   ]
  },
  {
   "cell_type": "code",
   "execution_count": 68,
   "metadata": {},
   "outputs": [
    {
     "name": "stdout",
     "output_type": "stream",
     "text": [
      "+-----+-------+--------------------+------+------+---------------+--------------+---------+-----------+----------+--------------------+------------------------+----------------------+--------------------------+---------+----------+---------------+------------+----------------+-----------------+-------+----------------+--------+\n",
      "|index|  brand|               Model| Price|rating|processor_brand|processor_tier|num_cores|num_threads|ram_memory|primary_storage_type|primary_storage_capacity|secondary_storage_type|secondary_storage_capacity|gpu_brand|  gpu_type|is_touch_screen|display_size|resolution_width|resolution_height|     OS|year_of_warranty|newbrand|\n",
      "+-----+-------+--------------------+------+------+---------------+--------------+---------+-----------+----------+--------------------+------------------------+----------------------+--------------------------+---------+----------+---------------+------------+----------------+-----------------+-------+----------------+--------+\n",
      "|    1|  tecno|Tecno Megabook T1...| 23990|    63|          intel|       core i3|        2|          4|         8|                 SSD|                     512|  No secondary storage|                         0|    intel|integrated|          False|        15.6|            1920|             1080|windows|               1|   tecno|\n",
      "|    2|  tecno|Tecno Megabook T1...| 35990|    67|          intel|       core i7|        4|          8|        16|                 SSD|                    1024|  No secondary storage|                         0|    intel|integrated|          False|        15.6|            1920|             1080|windows|               1|   tecno|\n",
      "|    3|     hp|HP Victus 15-fb01...| 51100|    73|            amd|       ryzen 5|        6|         12|         8|                 SSD|                     512|  No secondary storage|                         0|      amd| dedicated|          False|        15.6|            1920|             1080|windows|               1|      hp|\n",
      "|    4|   acer|Acer Extensa EX21...| 39990|    62|          intel|       core i5|       12|         16|         8|                 SSD|                     512|  No secondary storage|                         0|    intel|integrated|          False|        14.0|            1920|             1080|windows|               1|    acer|\n",
      "|    5| lenovo|Lenovo V15 82KDA0...| 28580|    62|            amd|       ryzen 3|        4|          8|         8|                 SSD|                     512|  No secondary storage|                         0|      amd|integrated|          False|        15.6|            1920|             1080|windows|               1|  lenovo|\n",
      "|    6|  apple|Apple MacBook Air...| 70990|    45|          apple|            m1|        8|          8|         8|                 SSD|                     256|  No secondary storage|                         0|    apple|     apple|          False|        13.3|            2560|             1600|    mac|               1|   apple|\n",
      "|    7|infinix|Infinix INBook Y2...| 34990|    56|          intel|       core i5|        4|          8|        16|                 SSD|                     512|  No secondary storage|                         0|    intel|integrated|          False|        15.6|            1920|             1080|windows|               1| infinix|\n",
      "|    8|   asus|Asus TUF Gaming F...| 49990|    70|          intel|       core i5|        6|         12|         8|                 SSD|                     512|  No secondary storage|                         0|   nvidia| dedicated|          False|        15.6|            1920|             1080|windows|               1|    asus|\n",
      "|    9|     hp|HP 15s-fq5007TU L...| 36990|    60|          intel|       core i3|        6|          8|         8|                 SSD|                     512|  No secondary storage|                         0|    intel|integrated|          False|        15.6|            1920|             1080|windows|               1|      hp|\n",
      "|   10|infinix|Infinix Zerobook ...| 59990|    71|          intel|       core i9|       14|         20|        32|                 SSD|                    1024|  No secondary storage|                         0|    intel|integrated|          False|        15.6|            1920|             1080|windows|               1| infinix|\n",
      "|   11|   dell|Dell Inspiron 352...| 34990|    60|          intel|       core i3|        6|          8|         8|                 SSD|                     512|  No secondary storage|                         0|    intel|integrated|          False|        15.6|            1920|             1080|windows|               1|    dell|\n",
      "|   12|samsung|Samsung Galaxy Bo...| 64990|    68|          intel|       core i5|       12|         16|        16|                 SSD|                     512|  No secondary storage|                         0|    intel|integrated|          False|        13.3|            1080|             1920|windows|               1| samsung|\n",
      "|   13|    msi|MSI Thin GF63 12U...| 52990|    71|          intel|       core i5|        8|         12|        16|                 SSD|                     512|  No secondary storage|                         0|   nvidia| dedicated|          False|        15.6|            1920|             1080|windows|               2|     msi|\n",
      "|   14|   asus|Asus Vivobook 16X...| 57390|    71|            amd|       ryzen 7|        8|         16|        16|                 SSD|                     512|  No secondary storage|                         0|      amd|integrated|          False|        16.0|            1920|             1200|windows|               1|    asus|\n",
      "|   15| lenovo|Lenovo IdeaPad Sl...| 47490|    66|          intel|       core i5|        4|          8|        16|                 SSD|                     512|  No secondary storage|                         0|    intel|integrated|          False|        15.6|            1920|             1080|windows|               1|  lenovo|\n",
      "|   16|     hp|HP Omen 16-wf1025...|153990|    85|          intel|       core i7|       20|         28|        16|                 SSD|                    1024|  No secondary storage|                         0|   nvidia| dedicated|          False|        16.1|            2560|             1440|windows|               1|      hp|\n",
      "|   17| lenovo|Lenovo V15 G3 IAP...| 49990|    59|          intel|       core i7|       10|         12|        16|                 SSD|                     512|  No secondary storage|                         0|    intel|integrated|          False|        15.6|            1920|             1080|windows|               1|  lenovo|\n",
      "|   18|   asus|Asus TUF Gaming F...| 75990|    76|          intel|       core i7|        8|         16|        16|                 SSD|                    1024|  No secondary storage|                         0|   nvidia| dedicated|          False|        15.6|            1920|             1080|windows|               1|    asus|\n",
      "|   19|     hp|HP Victus 15-fb10...| 55490|    71|            amd|       ryzen 5|        6|         12|        16|                 SSD|                     512|  No secondary storage|                         0|   nvidia| dedicated|          False|        15.6|            1920|             1080|windows|               1|      hp|\n",
      "|   20|  wings|Wings Nuvobook V1...| 27990|    56|          intel|       core i5|        4|          8|         8|                 SSD|                     512|  No secondary storage|                         0|    intel|integrated|          False|        15.6|            1080|             1920|windows|               1|   wings|\n",
      "+-----+-------+--------------------+------+------+---------------+--------------+---------+-----------+----------+--------------------+------------------------+----------------------+--------------------------+---------+----------+---------------+------------+----------------+-----------------+-------+----------------+--------+\n",
      "only showing top 20 rows\n",
      "\n"
     ]
    }
   ],
   "source": [
    "# copy a new column\n",
    "df.withColumn('newbrand', df['brand']).show()"
   ]
  },
  {
   "cell_type": "code",
   "execution_count": 69,
   "metadata": {},
   "outputs": [
    {
     "name": "stdout",
     "output_type": "stream",
     "text": [
      "+-----+-------+--------------------+------+------+---------------+--------------+---------+-----------+----------+--------------------+------------------------+----------------------+--------------------------+---------+----------+---------------+------------+----------------+-----------------+-------+----------------+\n",
      "|index|  brand|               Model| Price|rating|processor_brand|processor_tier|num_cores|num_threads|ram_memory|primary_storage_type|primary_storage_capacity|secondary_storage_type|secondary_storage_capacity|gpu_brand|  gpu_type|is_touch_screen|display_size|resolution_width|resolution_height|     OS|year_of_warranty|\n",
      "+-----+-------+--------------------+------+------+---------------+--------------+---------+-----------+----------+--------------------+------------------------+----------------------+--------------------------+---------+----------+---------------+------------+----------------+-----------------+-------+----------------+\n",
      "|    1|  tecno|Tecno Megabook T1...| 23990|    63|          intel|       core i3|        2|          4|         8|                 SSD|                     512|  No secondary storage|                         0|    intel|integrated|          False|        15.6|            1920|             1080|windows|               1|\n",
      "|    2|  tecno|Tecno Megabook T1...| 35990|    67|          intel|       core i7|        4|          8|        16|                 SSD|                    1024|  No secondary storage|                         0|    intel|integrated|          False|        15.6|            1920|             1080|windows|               1|\n",
      "|    3|     hp|HP Victus 15-fb01...| 51100|    73|            amd|       ryzen 5|        6|         12|         8|                 SSD|                     512|  No secondary storage|                         0|      amd| dedicated|          False|        15.6|            1920|             1080|windows|               1|\n",
      "|    4|   acer|Acer Extensa EX21...| 39990|    62|          intel|       core i5|       12|         16|         8|                 SSD|                     512|  No secondary storage|                         0|    intel|integrated|          False|        14.0|            1920|             1080|windows|               1|\n",
      "|    5| lenovo|Lenovo V15 82KDA0...| 28580|    62|            amd|       ryzen 3|        4|          8|         8|                 SSD|                     512|  No secondary storage|                         0|      amd|integrated|          False|        15.6|            1920|             1080|windows|               1|\n",
      "|    6|  apple|Apple MacBook Air...| 70990|    45|          apple|            m1|        8|          8|         8|                 SSD|                     256|  No secondary storage|                         0|    apple|     apple|          False|        13.3|            2560|             1600|    mac|               1|\n",
      "|    7|infinix|Infinix INBook Y2...| 34990|    56|          intel|       core i5|        4|          8|        16|                 SSD|                     512|  No secondary storage|                         0|    intel|integrated|          False|        15.6|            1920|             1080|windows|               1|\n",
      "|    8|   asus|Asus TUF Gaming F...| 49990|    70|          intel|       core i5|        6|         12|         8|                 SSD|                     512|  No secondary storage|                         0|   nvidia| dedicated|          False|        15.6|            1920|             1080|windows|               1|\n",
      "|    9|     hp|HP 15s-fq5007TU L...| 36990|    60|          intel|       core i3|        6|          8|         8|                 SSD|                     512|  No secondary storage|                         0|    intel|integrated|          False|        15.6|            1920|             1080|windows|               1|\n",
      "|   10|infinix|Infinix Zerobook ...| 59990|    71|          intel|       core i9|       14|         20|        32|                 SSD|                    1024|  No secondary storage|                         0|    intel|integrated|          False|        15.6|            1920|             1080|windows|               1|\n",
      "|   11|   dell|Dell Inspiron 352...| 34990|    60|          intel|       core i3|        6|          8|         8|                 SSD|                     512|  No secondary storage|                         0|    intel|integrated|          False|        15.6|            1920|             1080|windows|               1|\n",
      "|   12|samsung|Samsung Galaxy Bo...| 64990|    68|          intel|       core i5|       12|         16|        16|                 SSD|                     512|  No secondary storage|                         0|    intel|integrated|          False|        13.3|            1080|             1920|windows|               1|\n",
      "|   13|    msi|MSI Thin GF63 12U...| 52990|    71|          intel|       core i5|        8|         12|        16|                 SSD|                     512|  No secondary storage|                         0|   nvidia| dedicated|          False|        15.6|            1920|             1080|windows|               2|\n",
      "|   14|   asus|Asus Vivobook 16X...| 57390|    71|            amd|       ryzen 7|        8|         16|        16|                 SSD|                     512|  No secondary storage|                         0|      amd|integrated|          False|        16.0|            1920|             1200|windows|               1|\n",
      "|   15| lenovo|Lenovo IdeaPad Sl...| 47490|    66|          intel|       core i5|        4|          8|        16|                 SSD|                     512|  No secondary storage|                         0|    intel|integrated|          False|        15.6|            1920|             1080|windows|               1|\n",
      "|   16|     hp|HP Omen 16-wf1025...|153990|    85|          intel|       core i7|       20|         28|        16|                 SSD|                    1024|  No secondary storage|                         0|   nvidia| dedicated|          False|        16.1|            2560|             1440|windows|               1|\n",
      "|   17| lenovo|Lenovo V15 G3 IAP...| 49990|    59|          intel|       core i7|       10|         12|        16|                 SSD|                     512|  No secondary storage|                         0|    intel|integrated|          False|        15.6|            1920|             1080|windows|               1|\n",
      "|   18|   asus|Asus TUF Gaming F...| 75990|    76|          intel|       core i7|        8|         16|        16|                 SSD|                    1024|  No secondary storage|                         0|   nvidia| dedicated|          False|        15.6|            1920|             1080|windows|               1|\n",
      "|   19|     hp|HP Victus 15-fb10...| 55490|    71|            amd|       ryzen 5|        6|         12|        16|                 SSD|                     512|  No secondary storage|                         0|   nvidia| dedicated|          False|        15.6|            1920|             1080|windows|               1|\n",
      "|   20|  wings|Wings Nuvobook V1...| 27990|    56|          intel|       core i5|        4|          8|         8|                 SSD|                     512|  No secondary storage|                         0|    intel|integrated|          False|        15.6|            1080|             1920|windows|               1|\n",
      "+-----+-------+--------------------+------+------+---------------+--------------+---------+-----------+----------+--------------------+------------------------+----------------------+--------------------------+---------+----------+---------------+------------+----------------+-----------------+-------+----------------+\n",
      "only showing top 20 rows\n",
      "\n"
     ]
    }
   ],
   "source": [
    "df.show()"
   ]
  },
  {
   "cell_type": "code",
   "execution_count": 71,
   "metadata": {},
   "outputs": [
    {
     "name": "stdout",
     "output_type": "stream",
     "text": [
      "+-----+-------+--------------------+------+------+---------+--------------+---------+-----------+----------+--------------------+------------------------+----------------------+--------------------------+---------+----------+---------------+------------+----------------+-----------------+-------+----------------+\n",
      "|index|  brand|               Model| Price|rating|processor|processor_tier|num_cores|num_threads|ram_memory|primary_storage_type|primary_storage_capacity|secondary_storage_type|secondary_storage_capacity|gpu_brand|  gpu_type|is_touch_screen|display_size|resolution_width|resolution_height|     OS|year_of_warranty|\n",
      "+-----+-------+--------------------+------+------+---------+--------------+---------+-----------+----------+--------------------+------------------------+----------------------+--------------------------+---------+----------+---------------+------------+----------------+-----------------+-------+----------------+\n",
      "|    1|  tecno|Tecno Megabook T1...| 23990|    63|    intel|       core i3|        2|          4|         8|                 SSD|                     512|  No secondary storage|                         0|    intel|integrated|          False|        15.6|            1920|             1080|windows|               1|\n",
      "|    2|  tecno|Tecno Megabook T1...| 35990|    67|    intel|       core i7|        4|          8|        16|                 SSD|                    1024|  No secondary storage|                         0|    intel|integrated|          False|        15.6|            1920|             1080|windows|               1|\n",
      "|    3|     hp|HP Victus 15-fb01...| 51100|    73|      amd|       ryzen 5|        6|         12|         8|                 SSD|                     512|  No secondary storage|                         0|      amd| dedicated|          False|        15.6|            1920|             1080|windows|               1|\n",
      "|    4|   acer|Acer Extensa EX21...| 39990|    62|    intel|       core i5|       12|         16|         8|                 SSD|                     512|  No secondary storage|                         0|    intel|integrated|          False|        14.0|            1920|             1080|windows|               1|\n",
      "|    5| lenovo|Lenovo V15 82KDA0...| 28580|    62|      amd|       ryzen 3|        4|          8|         8|                 SSD|                     512|  No secondary storage|                         0|      amd|integrated|          False|        15.6|            1920|             1080|windows|               1|\n",
      "|    6|  apple|Apple MacBook Air...| 70990|    45|    apple|            m1|        8|          8|         8|                 SSD|                     256|  No secondary storage|                         0|    apple|     apple|          False|        13.3|            2560|             1600|    mac|               1|\n",
      "|    7|infinix|Infinix INBook Y2...| 34990|    56|    intel|       core i5|        4|          8|        16|                 SSD|                     512|  No secondary storage|                         0|    intel|integrated|          False|        15.6|            1920|             1080|windows|               1|\n",
      "|    8|   asus|Asus TUF Gaming F...| 49990|    70|    intel|       core i5|        6|         12|         8|                 SSD|                     512|  No secondary storage|                         0|   nvidia| dedicated|          False|        15.6|            1920|             1080|windows|               1|\n",
      "|    9|     hp|HP 15s-fq5007TU L...| 36990|    60|    intel|       core i3|        6|          8|         8|                 SSD|                     512|  No secondary storage|                         0|    intel|integrated|          False|        15.6|            1920|             1080|windows|               1|\n",
      "|   10|infinix|Infinix Zerobook ...| 59990|    71|    intel|       core i9|       14|         20|        32|                 SSD|                    1024|  No secondary storage|                         0|    intel|integrated|          False|        15.6|            1920|             1080|windows|               1|\n",
      "|   11|   dell|Dell Inspiron 352...| 34990|    60|    intel|       core i3|        6|          8|         8|                 SSD|                     512|  No secondary storage|                         0|    intel|integrated|          False|        15.6|            1920|             1080|windows|               1|\n",
      "|   12|samsung|Samsung Galaxy Bo...| 64990|    68|    intel|       core i5|       12|         16|        16|                 SSD|                     512|  No secondary storage|                         0|    intel|integrated|          False|        13.3|            1080|             1920|windows|               1|\n",
      "|   13|    msi|MSI Thin GF63 12U...| 52990|    71|    intel|       core i5|        8|         12|        16|                 SSD|                     512|  No secondary storage|                         0|   nvidia| dedicated|          False|        15.6|            1920|             1080|windows|               2|\n",
      "|   14|   asus|Asus Vivobook 16X...| 57390|    71|      amd|       ryzen 7|        8|         16|        16|                 SSD|                     512|  No secondary storage|                         0|      amd|integrated|          False|        16.0|            1920|             1200|windows|               1|\n",
      "|   15| lenovo|Lenovo IdeaPad Sl...| 47490|    66|    intel|       core i5|        4|          8|        16|                 SSD|                     512|  No secondary storage|                         0|    intel|integrated|          False|        15.6|            1920|             1080|windows|               1|\n",
      "|   16|     hp|HP Omen 16-wf1025...|153990|    85|    intel|       core i7|       20|         28|        16|                 SSD|                    1024|  No secondary storage|                         0|   nvidia| dedicated|          False|        16.1|            2560|             1440|windows|               1|\n",
      "|   17| lenovo|Lenovo V15 G3 IAP...| 49990|    59|    intel|       core i7|       10|         12|        16|                 SSD|                     512|  No secondary storage|                         0|    intel|integrated|          False|        15.6|            1920|             1080|windows|               1|\n",
      "|   18|   asus|Asus TUF Gaming F...| 75990|    76|    intel|       core i7|        8|         16|        16|                 SSD|                    1024|  No secondary storage|                         0|   nvidia| dedicated|          False|        15.6|            1920|             1080|windows|               1|\n",
      "|   19|     hp|HP Victus 15-fb10...| 55490|    71|      amd|       ryzen 5|        6|         12|        16|                 SSD|                     512|  No secondary storage|                         0|   nvidia| dedicated|          False|        15.6|            1920|             1080|windows|               1|\n",
      "|   20|  wings|Wings Nuvobook V1...| 27990|    56|    intel|       core i5|        4|          8|         8|                 SSD|                     512|  No secondary storage|                         0|    intel|integrated|          False|        15.6|            1080|             1920|windows|               1|\n",
      "+-----+-------+--------------------+------+------+---------+--------------+---------+-----------+----------+--------------------+------------------------+----------------------+--------------------------+---------+----------+---------------+------------+----------------+-----------------+-------+----------------+\n",
      "only showing top 20 rows\n",
      "\n"
     ]
    }
   ],
   "source": [
    "df.withColumnRenamed('processor_brand', 'processor').show()"
   ]
  },
  {
   "cell_type": "code",
   "execution_count": 78,
   "metadata": {},
   "outputs": [],
   "source": [
    "df.createOrReplaceTempView('people')"
   ]
  },
  {
   "cell_type": "code",
   "execution_count": 79,
   "metadata": {},
   "outputs": [],
   "source": [
    "results = spark.sql('SELECT * FROM people')"
   ]
  },
  {
   "cell_type": "code",
   "execution_count": 80,
   "metadata": {},
   "outputs": [
    {
     "name": "stdout",
     "output_type": "stream",
     "text": [
      "+-----+-------+--------------------+------+------+---------------+--------------+---------+-----------+----------+--------------------+------------------------+----------------------+--------------------------+---------+----------+---------------+------------+----------------+-----------------+-------+----------------+\n",
      "|index|  brand|               Model| Price|rating|processor_brand|processor_tier|num_cores|num_threads|ram_memory|primary_storage_type|primary_storage_capacity|secondary_storage_type|secondary_storage_capacity|gpu_brand|  gpu_type|is_touch_screen|display_size|resolution_width|resolution_height|     OS|year_of_warranty|\n",
      "+-----+-------+--------------------+------+------+---------------+--------------+---------+-----------+----------+--------------------+------------------------+----------------------+--------------------------+---------+----------+---------------+------------+----------------+-----------------+-------+----------------+\n",
      "|    1|  tecno|Tecno Megabook T1...| 23990|    63|          intel|       core i3|        2|          4|         8|                 SSD|                     512|  No secondary storage|                         0|    intel|integrated|          False|        15.6|            1920|             1080|windows|               1|\n",
      "|    2|  tecno|Tecno Megabook T1...| 35990|    67|          intel|       core i7|        4|          8|        16|                 SSD|                    1024|  No secondary storage|                         0|    intel|integrated|          False|        15.6|            1920|             1080|windows|               1|\n",
      "|    3|     hp|HP Victus 15-fb01...| 51100|    73|            amd|       ryzen 5|        6|         12|         8|                 SSD|                     512|  No secondary storage|                         0|      amd| dedicated|          False|        15.6|            1920|             1080|windows|               1|\n",
      "|    4|   acer|Acer Extensa EX21...| 39990|    62|          intel|       core i5|       12|         16|         8|                 SSD|                     512|  No secondary storage|                         0|    intel|integrated|          False|        14.0|            1920|             1080|windows|               1|\n",
      "|    5| lenovo|Lenovo V15 82KDA0...| 28580|    62|            amd|       ryzen 3|        4|          8|         8|                 SSD|                     512|  No secondary storage|                         0|      amd|integrated|          False|        15.6|            1920|             1080|windows|               1|\n",
      "|    6|  apple|Apple MacBook Air...| 70990|    45|          apple|            m1|        8|          8|         8|                 SSD|                     256|  No secondary storage|                         0|    apple|     apple|          False|        13.3|            2560|             1600|    mac|               1|\n",
      "|    7|infinix|Infinix INBook Y2...| 34990|    56|          intel|       core i5|        4|          8|        16|                 SSD|                     512|  No secondary storage|                         0|    intel|integrated|          False|        15.6|            1920|             1080|windows|               1|\n",
      "|    8|   asus|Asus TUF Gaming F...| 49990|    70|          intel|       core i5|        6|         12|         8|                 SSD|                     512|  No secondary storage|                         0|   nvidia| dedicated|          False|        15.6|            1920|             1080|windows|               1|\n",
      "|    9|     hp|HP 15s-fq5007TU L...| 36990|    60|          intel|       core i3|        6|          8|         8|                 SSD|                     512|  No secondary storage|                         0|    intel|integrated|          False|        15.6|            1920|             1080|windows|               1|\n",
      "|   10|infinix|Infinix Zerobook ...| 59990|    71|          intel|       core i9|       14|         20|        32|                 SSD|                    1024|  No secondary storage|                         0|    intel|integrated|          False|        15.6|            1920|             1080|windows|               1|\n",
      "|   11|   dell|Dell Inspiron 352...| 34990|    60|          intel|       core i3|        6|          8|         8|                 SSD|                     512|  No secondary storage|                         0|    intel|integrated|          False|        15.6|            1920|             1080|windows|               1|\n",
      "|   12|samsung|Samsung Galaxy Bo...| 64990|    68|          intel|       core i5|       12|         16|        16|                 SSD|                     512|  No secondary storage|                         0|    intel|integrated|          False|        13.3|            1080|             1920|windows|               1|\n",
      "|   13|    msi|MSI Thin GF63 12U...| 52990|    71|          intel|       core i5|        8|         12|        16|                 SSD|                     512|  No secondary storage|                         0|   nvidia| dedicated|          False|        15.6|            1920|             1080|windows|               2|\n",
      "|   14|   asus|Asus Vivobook 16X...| 57390|    71|            amd|       ryzen 7|        8|         16|        16|                 SSD|                     512|  No secondary storage|                         0|      amd|integrated|          False|        16.0|            1920|             1200|windows|               1|\n",
      "|   15| lenovo|Lenovo IdeaPad Sl...| 47490|    66|          intel|       core i5|        4|          8|        16|                 SSD|                     512|  No secondary storage|                         0|    intel|integrated|          False|        15.6|            1920|             1080|windows|               1|\n",
      "|   16|     hp|HP Omen 16-wf1025...|153990|    85|          intel|       core i7|       20|         28|        16|                 SSD|                    1024|  No secondary storage|                         0|   nvidia| dedicated|          False|        16.1|            2560|             1440|windows|               1|\n",
      "|   17| lenovo|Lenovo V15 G3 IAP...| 49990|    59|          intel|       core i7|       10|         12|        16|                 SSD|                     512|  No secondary storage|                         0|    intel|integrated|          False|        15.6|            1920|             1080|windows|               1|\n",
      "|   18|   asus|Asus TUF Gaming F...| 75990|    76|          intel|       core i7|        8|         16|        16|                 SSD|                    1024|  No secondary storage|                         0|   nvidia| dedicated|          False|        15.6|            1920|             1080|windows|               1|\n",
      "|   19|     hp|HP Victus 15-fb10...| 55490|    71|            amd|       ryzen 5|        6|         12|        16|                 SSD|                     512|  No secondary storage|                         0|   nvidia| dedicated|          False|        15.6|            1920|             1080|windows|               1|\n",
      "|   20|  wings|Wings Nuvobook V1...| 27990|    56|          intel|       core i5|        4|          8|         8|                 SSD|                     512|  No secondary storage|                         0|    intel|integrated|          False|        15.6|            1080|             1920|windows|               1|\n",
      "+-----+-------+--------------------+------+------+---------------+--------------+---------+-----------+----------+--------------------+------------------------+----------------------+--------------------------+---------+----------+---------------+------------+----------------+-----------------+-------+----------------+\n",
      "only showing top 20 rows\n",
      "\n"
     ]
    }
   ],
   "source": [
    "results.show()"
   ]
  },
  {
   "cell_type": "code",
   "execution_count": null,
   "metadata": {},
   "outputs": [],
   "source": []
  },
  {
   "cell_type": "code",
   "execution_count": null,
   "metadata": {},
   "outputs": [],
   "source": []
  },
  {
   "cell_type": "code",
   "execution_count": null,
   "metadata": {},
   "outputs": [],
   "source": []
  },
  {
   "cell_type": "code",
   "execution_count": null,
   "metadata": {},
   "outputs": [],
   "source": []
  }
 ],
 "metadata": {
  "kernelspec": {
   "display_name": "Python 3",
   "language": "python",
   "name": "python3"
  },
  "language_info": {
   "codemirror_mode": {
    "name": "ipython",
    "version": 3
   },
   "file_extension": ".py",
   "mimetype": "text/x-python",
   "name": "python",
   "nbconvert_exporter": "python",
   "pygments_lexer": "ipython3",
   "version": "3.11.4"
  }
 },
 "nbformat": 4,
 "nbformat_minor": 2
}
