{
 "cells": [
  {
   "cell_type": "code",
   "execution_count": 1,
   "metadata": {},
   "outputs": [],
   "source": [
    "import findspark\n",
    "findspark.init()\n",
    "from pyspark.sql import SparkSession"
   ]
  },
  {
   "cell_type": "code",
   "execution_count": 2,
   "metadata": {},
   "outputs": [],
   "source": [
    "spark = SparkSession.builder.appName('Basics').getOrCreate()"
   ]
  },
  {
   "cell_type": "code",
   "execution_count": 5,
   "metadata": {},
   "outputs": [],
   "source": [
    "df = spark.read.csv(r'C:\\Users\\LCL0512PA\\repos\\py_spark_training\\laptops.csv', header='true')"
   ]
  },
  {
   "cell_type": "code",
   "execution_count": 6,
   "metadata": {},
   "outputs": [
    {
     "name": "stdout",
     "output_type": "stream",
     "text": [
      "+-----+-------+--------------------+------+------+---------------+--------------+---------+-----------+----------+--------------------+------------------------+----------------------+--------------------------+---------+----------+---------------+------------+----------------+-----------------+-------+----------------+\n",
      "|index|  brand|               Model| Price|Rating|processor_brand|processor_tier|num_cores|num_threads|ram_memory|primary_storage_type|primary_storage_capacity|secondary_storage_type|secondary_storage_capacity|gpu_brand|  gpu_type|is_touch_screen|display_size|resolution_width|resolution_height|     OS|year_of_warranty|\n",
      "+-----+-------+--------------------+------+------+---------------+--------------+---------+-----------+----------+--------------------+------------------------+----------------------+--------------------------+---------+----------+---------------+------------+----------------+-----------------+-------+----------------+\n",
      "|    1|  tecno|Tecno Megabook T1...| 23990|    63|          intel|       core i3|        2|          4|         8|                 SSD|                     512|  No secondary storage|                         0|    intel|integrated|          False|        15.6|            1920|             1080|windows|               1|\n",
      "|    2|  tecno|Tecno Megabook T1...| 35990|    67|          intel|       core i7|        4|          8|        16|                 SSD|                    1024|  No secondary storage|                         0|    intel|integrated|          False|        15.6|            1920|             1080|windows|               1|\n",
      "|    3|     hp|HP Victus 15-fb01...| 51100|    73|            amd|       ryzen 5|        6|         12|         8|                 SSD|                     512|  No secondary storage|                         0|      amd| dedicated|          False|        15.6|            1920|             1080|windows|               1|\n",
      "|    4|   acer|Acer Extensa EX21...| 39990|    62|          intel|       core i5|       12|         16|         8|                 SSD|                     512|  No secondary storage|                         0|    intel|integrated|          False|        14.0|            1920|             1080|windows|               1|\n",
      "|    5| lenovo|Lenovo V15 82KDA0...| 28580|    62|            amd|       ryzen 3|        4|          8|         8|                 SSD|                     512|  No secondary storage|                         0|      amd|integrated|          False|        15.6|            1920|             1080|windows|               1|\n",
      "|    6|  apple|Apple MacBook Air...| 70990|    45|          apple|            m1|        8|          8|         8|                 SSD|                     256|  No secondary storage|                         0|    apple|     apple|          False|        13.3|            2560|             1600|    mac|               1|\n",
      "|    7|infinix|Infinix INBook Y2...| 34990|    56|          intel|       core i5|        4|          8|        16|                 SSD|                     512|  No secondary storage|                         0|    intel|integrated|          False|        15.6|            1920|             1080|windows|               1|\n",
      "|    8|   asus|Asus TUF Gaming F...| 49990|    70|          intel|       core i5|        6|         12|         8|                 SSD|                     512|  No secondary storage|                         0|   nvidia| dedicated|          False|        15.6|            1920|             1080|windows|               1|\n",
      "|    9|     hp|HP 15s-fq5007TU L...| 36990|    60|          intel|       core i3|        6|          8|         8|                 SSD|                     512|  No secondary storage|                         0|    intel|integrated|          False|        15.6|            1920|             1080|windows|               1|\n",
      "|   10|infinix|Infinix Zerobook ...| 59990|    71|          intel|       core i9|       14|         20|        32|                 SSD|                    1024|  No secondary storage|                         0|    intel|integrated|          False|        15.6|            1920|             1080|windows|               1|\n",
      "|   11|   dell|Dell Inspiron 352...| 34990|    60|          intel|       core i3|        6|          8|         8|                 SSD|                     512|  No secondary storage|                         0|    intel|integrated|          False|        15.6|            1920|             1080|windows|               1|\n",
      "|   12|samsung|Samsung Galaxy Bo...| 64990|    68|          intel|       core i5|       12|         16|        16|                 SSD|                     512|  No secondary storage|                         0|    intel|integrated|          False|        13.3|            1080|             1920|windows|               1|\n",
      "|   13|    msi|MSI Thin GF63 12U...| 52990|    71|          intel|       core i5|        8|         12|        16|                 SSD|                     512|  No secondary storage|                         0|   nvidia| dedicated|          False|        15.6|            1920|             1080|windows|               2|\n",
      "|   14|   asus|Asus Vivobook 16X...| 57390|    71|            amd|       ryzen 7|        8|         16|        16|                 SSD|                     512|  No secondary storage|                         0|      amd|integrated|          False|        16.0|            1920|             1200|windows|               1|\n",
      "|   15| lenovo|Lenovo IdeaPad Sl...| 47490|    66|          intel|       core i5|        4|          8|        16|                 SSD|                     512|  No secondary storage|                         0|    intel|integrated|          False|        15.6|            1920|             1080|windows|               1|\n",
      "|   16|     hp|HP Omen 16-wf1025...|153990|    85|          intel|       core i7|       20|         28|        16|                 SSD|                    1024|  No secondary storage|                         0|   nvidia| dedicated|          False|        16.1|            2560|             1440|windows|               1|\n",
      "|   17| lenovo|Lenovo V15 G3 IAP...| 49990|    59|          intel|       core i7|       10|         12|        16|                 SSD|                     512|  No secondary storage|                         0|    intel|integrated|          False|        15.6|            1920|             1080|windows|               1|\n",
      "|   18|   asus|Asus TUF Gaming F...| 75990|    76|          intel|       core i7|        8|         16|        16|                 SSD|                    1024|  No secondary storage|                         0|   nvidia| dedicated|          False|        15.6|            1920|             1080|windows|               1|\n",
      "|   19|     hp|HP Victus 15-fb10...| 55490|    71|            amd|       ryzen 5|        6|         12|        16|                 SSD|                     512|  No secondary storage|                         0|   nvidia| dedicated|          False|        15.6|            1920|             1080|windows|               1|\n",
      "|   20|  wings|Wings Nuvobook V1...| 27990|    56|          intel|       core i5|        4|          8|         8|                 SSD|                     512|  No secondary storage|                         0|    intel|integrated|          False|        15.6|            1080|             1920|windows|               1|\n",
      "+-----+-------+--------------------+------+------+---------------+--------------+---------+-----------+----------+--------------------+------------------------+----------------------+--------------------------+---------+----------+---------------+------------+----------------+-----------------+-------+----------------+\n",
      "only showing top 20 rows\n",
      "\n"
     ]
    }
   ],
   "source": [
    "df.show()"
   ]
  },
  {
   "cell_type": "code",
   "execution_count": 7,
   "metadata": {},
   "outputs": [
    {
     "name": "stdout",
     "output_type": "stream",
     "text": [
      "root\n",
      " |-- index: string (nullable = true)\n",
      " |-- brand: string (nullable = true)\n",
      " |-- Model: string (nullable = true)\n",
      " |-- Price: string (nullable = true)\n",
      " |-- Rating: string (nullable = true)\n",
      " |-- processor_brand: string (nullable = true)\n",
      " |-- processor_tier: string (nullable = true)\n",
      " |-- num_cores: string (nullable = true)\n",
      " |-- num_threads: string (nullable = true)\n",
      " |-- ram_memory: string (nullable = true)\n",
      " |-- primary_storage_type: string (nullable = true)\n",
      " |-- primary_storage_capacity: string (nullable = true)\n",
      " |-- secondary_storage_type: string (nullable = true)\n",
      " |-- secondary_storage_capacity: string (nullable = true)\n",
      " |-- gpu_brand: string (nullable = true)\n",
      " |-- gpu_type: string (nullable = true)\n",
      " |-- is_touch_screen: string (nullable = true)\n",
      " |-- display_size: string (nullable = true)\n",
      " |-- resolution_width: string (nullable = true)\n",
      " |-- resolution_height: string (nullable = true)\n",
      " |-- OS: string (nullable = true)\n",
      " |-- year_of_warranty: string (nullable = true)\n",
      "\n"
     ]
    }
   ],
   "source": [
    "df.printSchema()"
   ]
  },
  {
   "cell_type": "code",
   "execution_count": 8,
   "metadata": {},
   "outputs": [
    {
     "data": {
      "text/plain": [
       "['index',\n",
       " 'brand',\n",
       " 'Model',\n",
       " 'Price',\n",
       " 'Rating',\n",
       " 'processor_brand',\n",
       " 'processor_tier',\n",
       " 'num_cores',\n",
       " 'num_threads',\n",
       " 'ram_memory',\n",
       " 'primary_storage_type',\n",
       " 'primary_storage_capacity',\n",
       " 'secondary_storage_type',\n",
       " 'secondary_storage_capacity',\n",
       " 'gpu_brand',\n",
       " 'gpu_type',\n",
       " 'is_touch_screen',\n",
       " 'display_size',\n",
       " 'resolution_width',\n",
       " 'resolution_height',\n",
       " 'OS',\n",
       " 'year_of_warranty']"
      ]
     },
     "execution_count": 8,
     "metadata": {},
     "output_type": "execute_result"
    }
   ],
   "source": [
    "df.columns"
   ]
  },
  {
   "cell_type": "code",
   "execution_count": 9,
   "metadata": {},
   "outputs": [
    {
     "data": {
      "text/plain": [
       "DataFrame[summary: string, index: string, brand: string, Model: string, Price: string, Rating: string, processor_brand: string, processor_tier: string, num_cores: string, num_threads: string, ram_memory: string, primary_storage_type: string, primary_storage_capacity: string, secondary_storage_type: string, secondary_storage_capacity: string, gpu_brand: string, gpu_type: string, is_touch_screen: string, display_size: string, resolution_width: string, resolution_height: string, OS: string, year_of_warranty: string]"
      ]
     },
     "execution_count": 9,
     "metadata": {},
     "output_type": "execute_result"
    }
   ],
   "source": [
    "df.describe()"
   ]
  },
  {
   "cell_type": "code",
   "execution_count": 10,
   "metadata": {},
   "outputs": [
    {
     "name": "stdout",
     "output_type": "stream",
     "text": [
      "+-------+------------------+---------+--------------------+-----------------+-----------------+---------------+--------------+-----------------+------------------+------------------+--------------------+------------------------+----------------------+--------------------------+---------+----------+---------------+------------------+------------------+------------------+-------+------------------+\n",
      "|summary|             index|    brand|               Model|            Price|           Rating|processor_brand|processor_tier|        num_cores|       num_threads|        ram_memory|primary_storage_type|primary_storage_capacity|secondary_storage_type|secondary_storage_capacity|gpu_brand|  gpu_type|is_touch_screen|      display_size|  resolution_width| resolution_height|     OS|  year_of_warranty|\n",
      "+-------+------------------+---------+--------------------+-----------------+-----------------+---------------+--------------+-----------------+------------------+------------------+--------------------+------------------------+----------------------+--------------------------+---------+----------+---------------+------------------+------------------+------------------+-------+------------------+\n",
      "|  count|               991|      991|                 991|              991|              991|            991|           991|              991|               991|               991|                 991|                     991|                   991|                       991|      991|       991|            991|               991|               991|               991|    991|               991|\n",
      "|   mean|505.86074672048437|     NULL|                NULL|77266.50454086781| 63.9313824419778|           NULL|          NULL|8.128153380423814|12.191725529767911|13.047426841574168|                NULL|       610.9384460141272|                  NULL|         4.004036326942482|     NULL|      NULL|           NULL|15.171241170534934|2003.5035317860747|1181.2270433905146|   NULL|1.0853031860226106|\n",
      "| stddev| 287.8994577290029|     NULL|                NULL|57384.91026940801|10.19057467110308|           NULL|          NULL|4.215498642957193| 5.585114790365519| 5.591188137266451|                NULL|       266.9276662984985|                  NULL|         33.55393643610649|     NULL|      NULL|           NULL|0.9380887368163304|361.96529179226764| 263.8840193569074|   NULL|0.3141384382643878|\n",
      "|    min|                 1|     acer|ASUS TUF Gaming A...|           100190|               24|            amd|       celeron|               10|                 0|                12|                 HDD|                    1024|  No secondary storage|                         0|      amd|     apple|          False|              10.1|              1080|              1024|android|                 1|\n",
      "|    max|               999|zebronics|iBall Excelance C...|            99999|               89|          other|       ryzen 9|                8|                 8|                 8|                 SSD|                      64|                   SSD|                       512|   nvidia|integrated|           True|              18.0|              3840|               800|windows|    No information|\n",
      "+-------+------------------+---------+--------------------+-----------------+-----------------+---------------+--------------+-----------------+------------------+------------------+--------------------+------------------------+----------------------+--------------------------+---------+----------+---------------+------------------+------------------+------------------+-------+------------------+\n",
      "\n"
     ]
    }
   ],
   "source": [
    "df.describe().show()"
   ]
  },
  {
   "cell_type": "code",
   "execution_count": 11,
   "metadata": {},
   "outputs": [],
   "source": [
    "from pyspark.sql.types import StructField, StringType, IntegerType, StructType, FloatType"
   ]
  },
  {
   "cell_type": "code",
   "execution_count": 12,
   "metadata": {},
   "outputs": [],
   "source": [
    "# by importing data types you can define the schemas before importing the dataframe\n",
    "# if a column is not in the defined schema it will not load itself into the dataframe\n",
    "data_schema = [StructField('index',StringType(), True),\n",
    "               StructField('brand',StringType(), True),\n",
    "               StructField('Model',StringType(), True),\n",
    "               StructField('Price',IntegerType(), True),\n",
    "               StructField('rating',IntegerType(), True),\n",
    "               StructField('processor_brand',StringType(), True),\n",
    "               StructField('processor_tier',StringType(), True),\n",
    "               StructField('num_cores',IntegerType(), True),\n",
    "               StructField('num_threads',IntegerType(), True),\n",
    "               StructField('ram_memory',IntegerType(), True),\n",
    "               StructField('primary_storage_type',StringType(), True),\n",
    "               StructField('primary_storage_capacity',IntegerType(), True),\n",
    "               StructField('secondary_storage_type',StringType(), True),\n",
    "               StructField('secondary_storage_capacity',IntegerType(), True),\n",
    "               StructField('gpu_brand',StringType(), True),\n",
    "               StructField('gpu_type',StringType(), True),\n",
    "               StructField('is_touch_screen',StringType(), True),\n",
    "               StructField('display_size',FloatType(), True),\n",
    "               StructField('resolution_width',IntegerType(), True),\n",
    "               StructField('resolution_height',IntegerType(), True),\n",
    "               StructField('OS',StringType(), True),\n",
    "               StructField('year_of_warranty',StringType(), True)\n",
    "               ]"
   ]
  },
  {
   "cell_type": "code",
   "execution_count": 13,
   "metadata": {},
   "outputs": [],
   "source": [
    "final_struc = StructType(fields=data_schema)"
   ]
  },
  {
   "cell_type": "code",
   "execution_count": 15,
   "metadata": {},
   "outputs": [],
   "source": [
    "df = spark.read.csv(r'C:\\Users\\LCL0512PA\\repos\\py_spark_training\\laptops.csv', header='true', schema=final_struc)"
   ]
  },
  {
   "cell_type": "code",
   "execution_count": 16,
   "metadata": {},
   "outputs": [
    {
     "name": "stdout",
     "output_type": "stream",
     "text": [
      "root\n",
      " |-- index: string (nullable = true)\n",
      " |-- brand: string (nullable = true)\n",
      " |-- Model: string (nullable = true)\n",
      " |-- Price: integer (nullable = true)\n",
      " |-- rating: integer (nullable = true)\n",
      " |-- processor_brand: string (nullable = true)\n",
      " |-- processor_tier: string (nullable = true)\n",
      " |-- num_cores: integer (nullable = true)\n",
      " |-- num_threads: integer (nullable = true)\n",
      " |-- ram_memory: integer (nullable = true)\n",
      " |-- primary_storage_type: string (nullable = true)\n",
      " |-- primary_storage_capacity: integer (nullable = true)\n",
      " |-- secondary_storage_type: string (nullable = true)\n",
      " |-- secondary_storage_capacity: integer (nullable = true)\n",
      " |-- gpu_brand: string (nullable = true)\n",
      " |-- gpu_type: string (nullable = true)\n",
      " |-- is_touch_screen: string (nullable = true)\n",
      " |-- display_size: float (nullable = true)\n",
      " |-- resolution_width: integer (nullable = true)\n",
      " |-- resolution_height: integer (nullable = true)\n",
      " |-- OS: string (nullable = true)\n",
      " |-- year_of_warranty: string (nullable = true)\n",
      "\n"
     ]
    }
   ],
   "source": [
    "df.printSchema()"
   ]
  },
  {
   "cell_type": "code",
   "execution_count": 17,
   "metadata": {},
   "outputs": [
    {
     "name": "stdout",
     "output_type": "stream",
     "text": [
      "+-----+-------+--------------------+------+------+---------------+--------------+---------+-----------+----------+--------------------+------------------------+----------------------+--------------------------+---------+----------+---------------+------------+----------------+-----------------+-------+----------------+\n",
      "|index|  brand|               Model| Price|rating|processor_brand|processor_tier|num_cores|num_threads|ram_memory|primary_storage_type|primary_storage_capacity|secondary_storage_type|secondary_storage_capacity|gpu_brand|  gpu_type|is_touch_screen|display_size|resolution_width|resolution_height|     OS|year_of_warranty|\n",
      "+-----+-------+--------------------+------+------+---------------+--------------+---------+-----------+----------+--------------------+------------------------+----------------------+--------------------------+---------+----------+---------------+------------+----------------+-----------------+-------+----------------+\n",
      "|    1|  tecno|Tecno Megabook T1...| 23990|    63|          intel|       core i3|        2|          4|         8|                 SSD|                     512|  No secondary storage|                         0|    intel|integrated|          False|        15.6|            1920|             1080|windows|               1|\n",
      "|    2|  tecno|Tecno Megabook T1...| 35990|    67|          intel|       core i7|        4|          8|        16|                 SSD|                    1024|  No secondary storage|                         0|    intel|integrated|          False|        15.6|            1920|             1080|windows|               1|\n",
      "|    3|     hp|HP Victus 15-fb01...| 51100|    73|            amd|       ryzen 5|        6|         12|         8|                 SSD|                     512|  No secondary storage|                         0|      amd| dedicated|          False|        15.6|            1920|             1080|windows|               1|\n",
      "|    4|   acer|Acer Extensa EX21...| 39990|    62|          intel|       core i5|       12|         16|         8|                 SSD|                     512|  No secondary storage|                         0|    intel|integrated|          False|        14.0|            1920|             1080|windows|               1|\n",
      "|    5| lenovo|Lenovo V15 82KDA0...| 28580|    62|            amd|       ryzen 3|        4|          8|         8|                 SSD|                     512|  No secondary storage|                         0|      amd|integrated|          False|        15.6|            1920|             1080|windows|               1|\n",
      "|    6|  apple|Apple MacBook Air...| 70990|    45|          apple|            m1|        8|          8|         8|                 SSD|                     256|  No secondary storage|                         0|    apple|     apple|          False|        13.3|            2560|             1600|    mac|               1|\n",
      "|    7|infinix|Infinix INBook Y2...| 34990|    56|          intel|       core i5|        4|          8|        16|                 SSD|                     512|  No secondary storage|                         0|    intel|integrated|          False|        15.6|            1920|             1080|windows|               1|\n",
      "|    8|   asus|Asus TUF Gaming F...| 49990|    70|          intel|       core i5|        6|         12|         8|                 SSD|                     512|  No secondary storage|                         0|   nvidia| dedicated|          False|        15.6|            1920|             1080|windows|               1|\n",
      "|    9|     hp|HP 15s-fq5007TU L...| 36990|    60|          intel|       core i3|        6|          8|         8|                 SSD|                     512|  No secondary storage|                         0|    intel|integrated|          False|        15.6|            1920|             1080|windows|               1|\n",
      "|   10|infinix|Infinix Zerobook ...| 59990|    71|          intel|       core i9|       14|         20|        32|                 SSD|                    1024|  No secondary storage|                         0|    intel|integrated|          False|        15.6|            1920|             1080|windows|               1|\n",
      "|   11|   dell|Dell Inspiron 352...| 34990|    60|          intel|       core i3|        6|          8|         8|                 SSD|                     512|  No secondary storage|                         0|    intel|integrated|          False|        15.6|            1920|             1080|windows|               1|\n",
      "|   12|samsung|Samsung Galaxy Bo...| 64990|    68|          intel|       core i5|       12|         16|        16|                 SSD|                     512|  No secondary storage|                         0|    intel|integrated|          False|        13.3|            1080|             1920|windows|               1|\n",
      "|   13|    msi|MSI Thin GF63 12U...| 52990|    71|          intel|       core i5|        8|         12|        16|                 SSD|                     512|  No secondary storage|                         0|   nvidia| dedicated|          False|        15.6|            1920|             1080|windows|               2|\n",
      "|   14|   asus|Asus Vivobook 16X...| 57390|    71|            amd|       ryzen 7|        8|         16|        16|                 SSD|                     512|  No secondary storage|                         0|      amd|integrated|          False|        16.0|            1920|             1200|windows|               1|\n",
      "|   15| lenovo|Lenovo IdeaPad Sl...| 47490|    66|          intel|       core i5|        4|          8|        16|                 SSD|                     512|  No secondary storage|                         0|    intel|integrated|          False|        15.6|            1920|             1080|windows|               1|\n",
      "|   16|     hp|HP Omen 16-wf1025...|153990|    85|          intel|       core i7|       20|         28|        16|                 SSD|                    1024|  No secondary storage|                         0|   nvidia| dedicated|          False|        16.1|            2560|             1440|windows|               1|\n",
      "|   17| lenovo|Lenovo V15 G3 IAP...| 49990|    59|          intel|       core i7|       10|         12|        16|                 SSD|                     512|  No secondary storage|                         0|    intel|integrated|          False|        15.6|            1920|             1080|windows|               1|\n",
      "|   18|   asus|Asus TUF Gaming F...| 75990|    76|          intel|       core i7|        8|         16|        16|                 SSD|                    1024|  No secondary storage|                         0|   nvidia| dedicated|          False|        15.6|            1920|             1080|windows|               1|\n",
      "|   19|     hp|HP Victus 15-fb10...| 55490|    71|            amd|       ryzen 5|        6|         12|        16|                 SSD|                     512|  No secondary storage|                         0|   nvidia| dedicated|          False|        15.6|            1920|             1080|windows|               1|\n",
      "|   20|  wings|Wings Nuvobook V1...| 27990|    56|          intel|       core i5|        4|          8|         8|                 SSD|                     512|  No secondary storage|                         0|    intel|integrated|          False|        15.6|            1080|             1920|windows|               1|\n",
      "+-----+-------+--------------------+------+------+---------------+--------------+---------+-----------+----------+--------------------+------------------------+----------------------+--------------------------+---------+----------+---------------+------------+----------------+-----------------+-------+----------------+\n",
      "only showing top 20 rows\n",
      "\n"
     ]
    }
   ],
   "source": [
    "df.show()"
   ]
  },
  {
   "cell_type": "code",
   "execution_count": 18,
   "metadata": {},
   "outputs": [
    {
     "data": {
      "text/plain": [
       "pyspark.sql.column.Column"
      ]
     },
     "execution_count": 18,
     "metadata": {},
     "output_type": "execute_result"
    }
   ],
   "source": [
    "type(df['rating'])"
   ]
  },
  {
   "cell_type": "code",
   "execution_count": 19,
   "metadata": {},
   "outputs": [
    {
     "name": "stdout",
     "output_type": "stream",
     "text": [
      "+------+\n",
      "|rating|\n",
      "+------+\n",
      "|    63|\n",
      "|    67|\n",
      "|    73|\n",
      "|    62|\n",
      "|    62|\n",
      "|    45|\n",
      "|    56|\n",
      "|    70|\n",
      "|    60|\n",
      "|    71|\n",
      "|    60|\n",
      "|    68|\n",
      "|    71|\n",
      "|    71|\n",
      "|    66|\n",
      "|    85|\n",
      "|    59|\n",
      "|    76|\n",
      "|    71|\n",
      "|    56|\n",
      "+------+\n",
      "only showing top 20 rows\n",
      "\n"
     ]
    }
   ],
   "source": [
    "df.select('rating').show()"
   ]
  },
  {
   "cell_type": "code",
   "execution_count": 20,
   "metadata": {},
   "outputs": [
    {
     "data": {
      "text/plain": [
       "[Row(index='1', brand='tecno', Model='Tecno Megabook T1 Laptop (11th Gen Core i3/ 8GB/ 512GB SSD/ Win11 Home)', Price=23990, rating=63, processor_brand='intel', processor_tier='core i3', num_cores=2, num_threads=4, ram_memory=8, primary_storage_type='SSD', primary_storage_capacity=512, secondary_storage_type='No secondary storage', secondary_storage_capacity=0, gpu_brand='intel', gpu_type='integrated', is_touch_screen='False', display_size=15.600000381469727, resolution_width=1920, resolution_height=1080, OS='windows', year_of_warranty='1'),\n",
       " Row(index='2', brand='tecno', Model='Tecno Megabook T1 Laptop (11th Gen Core i7/ 16GB/ 1TB SSD/ Win11 Home)', Price=35990, rating=67, processor_brand='intel', processor_tier='core i7', num_cores=4, num_threads=8, ram_memory=16, primary_storage_type='SSD', primary_storage_capacity=1024, secondary_storage_type='No secondary storage', secondary_storage_capacity=0, gpu_brand='intel', gpu_type='integrated', is_touch_screen='False', display_size=15.600000381469727, resolution_width=1920, resolution_height=1080, OS='windows', year_of_warranty='1')]"
      ]
     },
     "execution_count": 20,
     "metadata": {},
     "output_type": "execute_result"
    }
   ],
   "source": [
    "df.head(2)"
   ]
  },
  {
   "cell_type": "code",
   "execution_count": 21,
   "metadata": {},
   "outputs": [
    {
     "data": {
      "text/plain": [
       "Row(index='2', brand='tecno', Model='Tecno Megabook T1 Laptop (11th Gen Core i7/ 16GB/ 1TB SSD/ Win11 Home)', Price=35990, rating=67, processor_brand='intel', processor_tier='core i7', num_cores=4, num_threads=8, ram_memory=16, primary_storage_type='SSD', primary_storage_capacity=1024, secondary_storage_type='No secondary storage', secondary_storage_capacity=0, gpu_brand='intel', gpu_type='integrated', is_touch_screen='False', display_size=15.600000381469727, resolution_width=1920, resolution_height=1080, OS='windows', year_of_warranty='1')"
      ]
     },
     "execution_count": 21,
     "metadata": {},
     "output_type": "execute_result"
    }
   ],
   "source": [
    "df.head(2)[1]"
   ]
  },
  {
   "cell_type": "code",
   "execution_count": 22,
   "metadata": {},
   "outputs": [
    {
     "name": "stdout",
     "output_type": "stream",
     "text": [
      "+-----+-------+--------------------+------+------+---------------+--------------+---------+-----------+----------+--------------------+------------------------+----------------------+--------------------------+---------+----------+---------------+------------+----------------+-----------------+-------+----------------+--------+\n",
      "|index|  brand|               Model| Price|rating|processor_brand|processor_tier|num_cores|num_threads|ram_memory|primary_storage_type|primary_storage_capacity|secondary_storage_type|secondary_storage_capacity|gpu_brand|  gpu_type|is_touch_screen|display_size|resolution_width|resolution_height|     OS|year_of_warranty|newbrand|\n",
      "+-----+-------+--------------------+------+------+---------------+--------------+---------+-----------+----------+--------------------+------------------------+----------------------+--------------------------+---------+----------+---------------+------------+----------------+-----------------+-------+----------------+--------+\n",
      "|    1|  tecno|Tecno Megabook T1...| 23990|    63|          intel|       core i3|        2|          4|         8|                 SSD|                     512|  No secondary storage|                         0|    intel|integrated|          False|        15.6|            1920|             1080|windows|               1|   tecno|\n",
      "|    2|  tecno|Tecno Megabook T1...| 35990|    67|          intel|       core i7|        4|          8|        16|                 SSD|                    1024|  No secondary storage|                         0|    intel|integrated|          False|        15.6|            1920|             1080|windows|               1|   tecno|\n",
      "|    3|     hp|HP Victus 15-fb01...| 51100|    73|            amd|       ryzen 5|        6|         12|         8|                 SSD|                     512|  No secondary storage|                         0|      amd| dedicated|          False|        15.6|            1920|             1080|windows|               1|      hp|\n",
      "|    4|   acer|Acer Extensa EX21...| 39990|    62|          intel|       core i5|       12|         16|         8|                 SSD|                     512|  No secondary storage|                         0|    intel|integrated|          False|        14.0|            1920|             1080|windows|               1|    acer|\n",
      "|    5| lenovo|Lenovo V15 82KDA0...| 28580|    62|            amd|       ryzen 3|        4|          8|         8|                 SSD|                     512|  No secondary storage|                         0|      amd|integrated|          False|        15.6|            1920|             1080|windows|               1|  lenovo|\n",
      "|    6|  apple|Apple MacBook Air...| 70990|    45|          apple|            m1|        8|          8|         8|                 SSD|                     256|  No secondary storage|                         0|    apple|     apple|          False|        13.3|            2560|             1600|    mac|               1|   apple|\n",
      "|    7|infinix|Infinix INBook Y2...| 34990|    56|          intel|       core i5|        4|          8|        16|                 SSD|                     512|  No secondary storage|                         0|    intel|integrated|          False|        15.6|            1920|             1080|windows|               1| infinix|\n",
      "|    8|   asus|Asus TUF Gaming F...| 49990|    70|          intel|       core i5|        6|         12|         8|                 SSD|                     512|  No secondary storage|                         0|   nvidia| dedicated|          False|        15.6|            1920|             1080|windows|               1|    asus|\n",
      "|    9|     hp|HP 15s-fq5007TU L...| 36990|    60|          intel|       core i3|        6|          8|         8|                 SSD|                     512|  No secondary storage|                         0|    intel|integrated|          False|        15.6|            1920|             1080|windows|               1|      hp|\n",
      "|   10|infinix|Infinix Zerobook ...| 59990|    71|          intel|       core i9|       14|         20|        32|                 SSD|                    1024|  No secondary storage|                         0|    intel|integrated|          False|        15.6|            1920|             1080|windows|               1| infinix|\n",
      "|   11|   dell|Dell Inspiron 352...| 34990|    60|          intel|       core i3|        6|          8|         8|                 SSD|                     512|  No secondary storage|                         0|    intel|integrated|          False|        15.6|            1920|             1080|windows|               1|    dell|\n",
      "|   12|samsung|Samsung Galaxy Bo...| 64990|    68|          intel|       core i5|       12|         16|        16|                 SSD|                     512|  No secondary storage|                         0|    intel|integrated|          False|        13.3|            1080|             1920|windows|               1| samsung|\n",
      "|   13|    msi|MSI Thin GF63 12U...| 52990|    71|          intel|       core i5|        8|         12|        16|                 SSD|                     512|  No secondary storage|                         0|   nvidia| dedicated|          False|        15.6|            1920|             1080|windows|               2|     msi|\n",
      "|   14|   asus|Asus Vivobook 16X...| 57390|    71|            amd|       ryzen 7|        8|         16|        16|                 SSD|                     512|  No secondary storage|                         0|      amd|integrated|          False|        16.0|            1920|             1200|windows|               1|    asus|\n",
      "|   15| lenovo|Lenovo IdeaPad Sl...| 47490|    66|          intel|       core i5|        4|          8|        16|                 SSD|                     512|  No secondary storage|                         0|    intel|integrated|          False|        15.6|            1920|             1080|windows|               1|  lenovo|\n",
      "|   16|     hp|HP Omen 16-wf1025...|153990|    85|          intel|       core i7|       20|         28|        16|                 SSD|                    1024|  No secondary storage|                         0|   nvidia| dedicated|          False|        16.1|            2560|             1440|windows|               1|      hp|\n",
      "|   17| lenovo|Lenovo V15 G3 IAP...| 49990|    59|          intel|       core i7|       10|         12|        16|                 SSD|                     512|  No secondary storage|                         0|    intel|integrated|          False|        15.6|            1920|             1080|windows|               1|  lenovo|\n",
      "|   18|   asus|Asus TUF Gaming F...| 75990|    76|          intel|       core i7|        8|         16|        16|                 SSD|                    1024|  No secondary storage|                         0|   nvidia| dedicated|          False|        15.6|            1920|             1080|windows|               1|    asus|\n",
      "|   19|     hp|HP Victus 15-fb10...| 55490|    71|            amd|       ryzen 5|        6|         12|        16|                 SSD|                     512|  No secondary storage|                         0|   nvidia| dedicated|          False|        15.6|            1920|             1080|windows|               1|      hp|\n",
      "|   20|  wings|Wings Nuvobook V1...| 27990|    56|          intel|       core i5|        4|          8|         8|                 SSD|                     512|  No secondary storage|                         0|    intel|integrated|          False|        15.6|            1080|             1920|windows|               1|   wings|\n",
      "+-----+-------+--------------------+------+------+---------------+--------------+---------+-----------+----------+--------------------+------------------------+----------------------+--------------------------+---------+----------+---------------+------------+----------------+-----------------+-------+----------------+--------+\n",
      "only showing top 20 rows\n",
      "\n"
     ]
    }
   ],
   "source": [
    "# copy a new column\n",
    "df.withColumn('newbrand', df['brand']).show()"
   ]
  },
  {
   "cell_type": "code",
   "execution_count": 23,
   "metadata": {},
   "outputs": [
    {
     "name": "stdout",
     "output_type": "stream",
     "text": [
      "+-----+-------+--------------------+------+------+---------------+--------------+---------+-----------+----------+--------------------+------------------------+----------------------+--------------------------+---------+----------+---------------+------------+----------------+-----------------+-------+----------------+\n",
      "|index|  brand|               Model| Price|rating|processor_brand|processor_tier|num_cores|num_threads|ram_memory|primary_storage_type|primary_storage_capacity|secondary_storage_type|secondary_storage_capacity|gpu_brand|  gpu_type|is_touch_screen|display_size|resolution_width|resolution_height|     OS|year_of_warranty|\n",
      "+-----+-------+--------------------+------+------+---------------+--------------+---------+-----------+----------+--------------------+------------------------+----------------------+--------------------------+---------+----------+---------------+------------+----------------+-----------------+-------+----------------+\n",
      "|    1|  tecno|Tecno Megabook T1...| 23990|    63|          intel|       core i3|        2|          4|         8|                 SSD|                     512|  No secondary storage|                         0|    intel|integrated|          False|        15.6|            1920|             1080|windows|               1|\n",
      "|    2|  tecno|Tecno Megabook T1...| 35990|    67|          intel|       core i7|        4|          8|        16|                 SSD|                    1024|  No secondary storage|                         0|    intel|integrated|          False|        15.6|            1920|             1080|windows|               1|\n",
      "|    3|     hp|HP Victus 15-fb01...| 51100|    73|            amd|       ryzen 5|        6|         12|         8|                 SSD|                     512|  No secondary storage|                         0|      amd| dedicated|          False|        15.6|            1920|             1080|windows|               1|\n",
      "|    4|   acer|Acer Extensa EX21...| 39990|    62|          intel|       core i5|       12|         16|         8|                 SSD|                     512|  No secondary storage|                         0|    intel|integrated|          False|        14.0|            1920|             1080|windows|               1|\n",
      "|    5| lenovo|Lenovo V15 82KDA0...| 28580|    62|            amd|       ryzen 3|        4|          8|         8|                 SSD|                     512|  No secondary storage|                         0|      amd|integrated|          False|        15.6|            1920|             1080|windows|               1|\n",
      "|    6|  apple|Apple MacBook Air...| 70990|    45|          apple|            m1|        8|          8|         8|                 SSD|                     256|  No secondary storage|                         0|    apple|     apple|          False|        13.3|            2560|             1600|    mac|               1|\n",
      "|    7|infinix|Infinix INBook Y2...| 34990|    56|          intel|       core i5|        4|          8|        16|                 SSD|                     512|  No secondary storage|                         0|    intel|integrated|          False|        15.6|            1920|             1080|windows|               1|\n",
      "|    8|   asus|Asus TUF Gaming F...| 49990|    70|          intel|       core i5|        6|         12|         8|                 SSD|                     512|  No secondary storage|                         0|   nvidia| dedicated|          False|        15.6|            1920|             1080|windows|               1|\n",
      "|    9|     hp|HP 15s-fq5007TU L...| 36990|    60|          intel|       core i3|        6|          8|         8|                 SSD|                     512|  No secondary storage|                         0|    intel|integrated|          False|        15.6|            1920|             1080|windows|               1|\n",
      "|   10|infinix|Infinix Zerobook ...| 59990|    71|          intel|       core i9|       14|         20|        32|                 SSD|                    1024|  No secondary storage|                         0|    intel|integrated|          False|        15.6|            1920|             1080|windows|               1|\n",
      "|   11|   dell|Dell Inspiron 352...| 34990|    60|          intel|       core i3|        6|          8|         8|                 SSD|                     512|  No secondary storage|                         0|    intel|integrated|          False|        15.6|            1920|             1080|windows|               1|\n",
      "|   12|samsung|Samsung Galaxy Bo...| 64990|    68|          intel|       core i5|       12|         16|        16|                 SSD|                     512|  No secondary storage|                         0|    intel|integrated|          False|        13.3|            1080|             1920|windows|               1|\n",
      "|   13|    msi|MSI Thin GF63 12U...| 52990|    71|          intel|       core i5|        8|         12|        16|                 SSD|                     512|  No secondary storage|                         0|   nvidia| dedicated|          False|        15.6|            1920|             1080|windows|               2|\n",
      "|   14|   asus|Asus Vivobook 16X...| 57390|    71|            amd|       ryzen 7|        8|         16|        16|                 SSD|                     512|  No secondary storage|                         0|      amd|integrated|          False|        16.0|            1920|             1200|windows|               1|\n",
      "|   15| lenovo|Lenovo IdeaPad Sl...| 47490|    66|          intel|       core i5|        4|          8|        16|                 SSD|                     512|  No secondary storage|                         0|    intel|integrated|          False|        15.6|            1920|             1080|windows|               1|\n",
      "|   16|     hp|HP Omen 16-wf1025...|153990|    85|          intel|       core i7|       20|         28|        16|                 SSD|                    1024|  No secondary storage|                         0|   nvidia| dedicated|          False|        16.1|            2560|             1440|windows|               1|\n",
      "|   17| lenovo|Lenovo V15 G3 IAP...| 49990|    59|          intel|       core i7|       10|         12|        16|                 SSD|                     512|  No secondary storage|                         0|    intel|integrated|          False|        15.6|            1920|             1080|windows|               1|\n",
      "|   18|   asus|Asus TUF Gaming F...| 75990|    76|          intel|       core i7|        8|         16|        16|                 SSD|                    1024|  No secondary storage|                         0|   nvidia| dedicated|          False|        15.6|            1920|             1080|windows|               1|\n",
      "|   19|     hp|HP Victus 15-fb10...| 55490|    71|            amd|       ryzen 5|        6|         12|        16|                 SSD|                     512|  No secondary storage|                         0|   nvidia| dedicated|          False|        15.6|            1920|             1080|windows|               1|\n",
      "|   20|  wings|Wings Nuvobook V1...| 27990|    56|          intel|       core i5|        4|          8|         8|                 SSD|                     512|  No secondary storage|                         0|    intel|integrated|          False|        15.6|            1080|             1920|windows|               1|\n",
      "+-----+-------+--------------------+------+------+---------------+--------------+---------+-----------+----------+--------------------+------------------------+----------------------+--------------------------+---------+----------+---------------+------------+----------------+-----------------+-------+----------------+\n",
      "only showing top 20 rows\n",
      "\n"
     ]
    }
   ],
   "source": [
    "df.show()"
   ]
  },
  {
   "cell_type": "code",
   "execution_count": 24,
   "metadata": {},
   "outputs": [
    {
     "name": "stdout",
     "output_type": "stream",
     "text": [
      "+-----+-------+--------------------+------+------+---------+--------------+---------+-----------+----------+--------------------+------------------------+----------------------+--------------------------+---------+----------+---------------+------------+----------------+-----------------+-------+----------------+\n",
      "|index|  brand|               Model| Price|rating|processor|processor_tier|num_cores|num_threads|ram_memory|primary_storage_type|primary_storage_capacity|secondary_storage_type|secondary_storage_capacity|gpu_brand|  gpu_type|is_touch_screen|display_size|resolution_width|resolution_height|     OS|year_of_warranty|\n",
      "+-----+-------+--------------------+------+------+---------+--------------+---------+-----------+----------+--------------------+------------------------+----------------------+--------------------------+---------+----------+---------------+------------+----------------+-----------------+-------+----------------+\n",
      "|    1|  tecno|Tecno Megabook T1...| 23990|    63|    intel|       core i3|        2|          4|         8|                 SSD|                     512|  No secondary storage|                         0|    intel|integrated|          False|        15.6|            1920|             1080|windows|               1|\n",
      "|    2|  tecno|Tecno Megabook T1...| 35990|    67|    intel|       core i7|        4|          8|        16|                 SSD|                    1024|  No secondary storage|                         0|    intel|integrated|          False|        15.6|            1920|             1080|windows|               1|\n",
      "|    3|     hp|HP Victus 15-fb01...| 51100|    73|      amd|       ryzen 5|        6|         12|         8|                 SSD|                     512|  No secondary storage|                         0|      amd| dedicated|          False|        15.6|            1920|             1080|windows|               1|\n",
      "|    4|   acer|Acer Extensa EX21...| 39990|    62|    intel|       core i5|       12|         16|         8|                 SSD|                     512|  No secondary storage|                         0|    intel|integrated|          False|        14.0|            1920|             1080|windows|               1|\n",
      "|    5| lenovo|Lenovo V15 82KDA0...| 28580|    62|      amd|       ryzen 3|        4|          8|         8|                 SSD|                     512|  No secondary storage|                         0|      amd|integrated|          False|        15.6|            1920|             1080|windows|               1|\n",
      "|    6|  apple|Apple MacBook Air...| 70990|    45|    apple|            m1|        8|          8|         8|                 SSD|                     256|  No secondary storage|                         0|    apple|     apple|          False|        13.3|            2560|             1600|    mac|               1|\n",
      "|    7|infinix|Infinix INBook Y2...| 34990|    56|    intel|       core i5|        4|          8|        16|                 SSD|                     512|  No secondary storage|                         0|    intel|integrated|          False|        15.6|            1920|             1080|windows|               1|\n",
      "|    8|   asus|Asus TUF Gaming F...| 49990|    70|    intel|       core i5|        6|         12|         8|                 SSD|                     512|  No secondary storage|                         0|   nvidia| dedicated|          False|        15.6|            1920|             1080|windows|               1|\n",
      "|    9|     hp|HP 15s-fq5007TU L...| 36990|    60|    intel|       core i3|        6|          8|         8|                 SSD|                     512|  No secondary storage|                         0|    intel|integrated|          False|        15.6|            1920|             1080|windows|               1|\n",
      "|   10|infinix|Infinix Zerobook ...| 59990|    71|    intel|       core i9|       14|         20|        32|                 SSD|                    1024|  No secondary storage|                         0|    intel|integrated|          False|        15.6|            1920|             1080|windows|               1|\n",
      "|   11|   dell|Dell Inspiron 352...| 34990|    60|    intel|       core i3|        6|          8|         8|                 SSD|                     512|  No secondary storage|                         0|    intel|integrated|          False|        15.6|            1920|             1080|windows|               1|\n",
      "|   12|samsung|Samsung Galaxy Bo...| 64990|    68|    intel|       core i5|       12|         16|        16|                 SSD|                     512|  No secondary storage|                         0|    intel|integrated|          False|        13.3|            1080|             1920|windows|               1|\n",
      "|   13|    msi|MSI Thin GF63 12U...| 52990|    71|    intel|       core i5|        8|         12|        16|                 SSD|                     512|  No secondary storage|                         0|   nvidia| dedicated|          False|        15.6|            1920|             1080|windows|               2|\n",
      "|   14|   asus|Asus Vivobook 16X...| 57390|    71|      amd|       ryzen 7|        8|         16|        16|                 SSD|                     512|  No secondary storage|                         0|      amd|integrated|          False|        16.0|            1920|             1200|windows|               1|\n",
      "|   15| lenovo|Lenovo IdeaPad Sl...| 47490|    66|    intel|       core i5|        4|          8|        16|                 SSD|                     512|  No secondary storage|                         0|    intel|integrated|          False|        15.6|            1920|             1080|windows|               1|\n",
      "|   16|     hp|HP Omen 16-wf1025...|153990|    85|    intel|       core i7|       20|         28|        16|                 SSD|                    1024|  No secondary storage|                         0|   nvidia| dedicated|          False|        16.1|            2560|             1440|windows|               1|\n",
      "|   17| lenovo|Lenovo V15 G3 IAP...| 49990|    59|    intel|       core i7|       10|         12|        16|                 SSD|                     512|  No secondary storage|                         0|    intel|integrated|          False|        15.6|            1920|             1080|windows|               1|\n",
      "|   18|   asus|Asus TUF Gaming F...| 75990|    76|    intel|       core i7|        8|         16|        16|                 SSD|                    1024|  No secondary storage|                         0|   nvidia| dedicated|          False|        15.6|            1920|             1080|windows|               1|\n",
      "|   19|     hp|HP Victus 15-fb10...| 55490|    71|      amd|       ryzen 5|        6|         12|        16|                 SSD|                     512|  No secondary storage|                         0|   nvidia| dedicated|          False|        15.6|            1920|             1080|windows|               1|\n",
      "|   20|  wings|Wings Nuvobook V1...| 27990|    56|    intel|       core i5|        4|          8|         8|                 SSD|                     512|  No secondary storage|                         0|    intel|integrated|          False|        15.6|            1080|             1920|windows|               1|\n",
      "+-----+-------+--------------------+------+------+---------+--------------+---------+-----------+----------+--------------------+------------------------+----------------------+--------------------------+---------+----------+---------------+------------+----------------+-----------------+-------+----------------+\n",
      "only showing top 20 rows\n",
      "\n"
     ]
    }
   ],
   "source": [
    "df.withColumnRenamed('processor_brand', 'processor').show()"
   ]
  },
  {
   "cell_type": "code",
   "execution_count": 25,
   "metadata": {},
   "outputs": [],
   "source": [
    "df.createOrReplaceTempView('people')"
   ]
  },
  {
   "cell_type": "code",
   "execution_count": 26,
   "metadata": {},
   "outputs": [],
   "source": [
    "results = spark.sql('SELECT * FROM people')"
   ]
  },
  {
   "cell_type": "code",
   "execution_count": 27,
   "metadata": {},
   "outputs": [
    {
     "name": "stdout",
     "output_type": "stream",
     "text": [
      "+-----+-------+--------------------+------+------+---------------+--------------+---------+-----------+----------+--------------------+------------------------+----------------------+--------------------------+---------+----------+---------------+------------+----------------+-----------------+-------+----------------+\n",
      "|index|  brand|               Model| Price|rating|processor_brand|processor_tier|num_cores|num_threads|ram_memory|primary_storage_type|primary_storage_capacity|secondary_storage_type|secondary_storage_capacity|gpu_brand|  gpu_type|is_touch_screen|display_size|resolution_width|resolution_height|     OS|year_of_warranty|\n",
      "+-----+-------+--------------------+------+------+---------------+--------------+---------+-----------+----------+--------------------+------------------------+----------------------+--------------------------+---------+----------+---------------+------------+----------------+-----------------+-------+----------------+\n",
      "|    1|  tecno|Tecno Megabook T1...| 23990|    63|          intel|       core i3|        2|          4|         8|                 SSD|                     512|  No secondary storage|                         0|    intel|integrated|          False|        15.6|            1920|             1080|windows|               1|\n",
      "|    2|  tecno|Tecno Megabook T1...| 35990|    67|          intel|       core i7|        4|          8|        16|                 SSD|                    1024|  No secondary storage|                         0|    intel|integrated|          False|        15.6|            1920|             1080|windows|               1|\n",
      "|    3|     hp|HP Victus 15-fb01...| 51100|    73|            amd|       ryzen 5|        6|         12|         8|                 SSD|                     512|  No secondary storage|                         0|      amd| dedicated|          False|        15.6|            1920|             1080|windows|               1|\n",
      "|    4|   acer|Acer Extensa EX21...| 39990|    62|          intel|       core i5|       12|         16|         8|                 SSD|                     512|  No secondary storage|                         0|    intel|integrated|          False|        14.0|            1920|             1080|windows|               1|\n",
      "|    5| lenovo|Lenovo V15 82KDA0...| 28580|    62|            amd|       ryzen 3|        4|          8|         8|                 SSD|                     512|  No secondary storage|                         0|      amd|integrated|          False|        15.6|            1920|             1080|windows|               1|\n",
      "|    6|  apple|Apple MacBook Air...| 70990|    45|          apple|            m1|        8|          8|         8|                 SSD|                     256|  No secondary storage|                         0|    apple|     apple|          False|        13.3|            2560|             1600|    mac|               1|\n",
      "|    7|infinix|Infinix INBook Y2...| 34990|    56|          intel|       core i5|        4|          8|        16|                 SSD|                     512|  No secondary storage|                         0|    intel|integrated|          False|        15.6|            1920|             1080|windows|               1|\n",
      "|    8|   asus|Asus TUF Gaming F...| 49990|    70|          intel|       core i5|        6|         12|         8|                 SSD|                     512|  No secondary storage|                         0|   nvidia| dedicated|          False|        15.6|            1920|             1080|windows|               1|\n",
      "|    9|     hp|HP 15s-fq5007TU L...| 36990|    60|          intel|       core i3|        6|          8|         8|                 SSD|                     512|  No secondary storage|                         0|    intel|integrated|          False|        15.6|            1920|             1080|windows|               1|\n",
      "|   10|infinix|Infinix Zerobook ...| 59990|    71|          intel|       core i9|       14|         20|        32|                 SSD|                    1024|  No secondary storage|                         0|    intel|integrated|          False|        15.6|            1920|             1080|windows|               1|\n",
      "|   11|   dell|Dell Inspiron 352...| 34990|    60|          intel|       core i3|        6|          8|         8|                 SSD|                     512|  No secondary storage|                         0|    intel|integrated|          False|        15.6|            1920|             1080|windows|               1|\n",
      "|   12|samsung|Samsung Galaxy Bo...| 64990|    68|          intel|       core i5|       12|         16|        16|                 SSD|                     512|  No secondary storage|                         0|    intel|integrated|          False|        13.3|            1080|             1920|windows|               1|\n",
      "|   13|    msi|MSI Thin GF63 12U...| 52990|    71|          intel|       core i5|        8|         12|        16|                 SSD|                     512|  No secondary storage|                         0|   nvidia| dedicated|          False|        15.6|            1920|             1080|windows|               2|\n",
      "|   14|   asus|Asus Vivobook 16X...| 57390|    71|            amd|       ryzen 7|        8|         16|        16|                 SSD|                     512|  No secondary storage|                         0|      amd|integrated|          False|        16.0|            1920|             1200|windows|               1|\n",
      "|   15| lenovo|Lenovo IdeaPad Sl...| 47490|    66|          intel|       core i5|        4|          8|        16|                 SSD|                     512|  No secondary storage|                         0|    intel|integrated|          False|        15.6|            1920|             1080|windows|               1|\n",
      "|   16|     hp|HP Omen 16-wf1025...|153990|    85|          intel|       core i7|       20|         28|        16|                 SSD|                    1024|  No secondary storage|                         0|   nvidia| dedicated|          False|        16.1|            2560|             1440|windows|               1|\n",
      "|   17| lenovo|Lenovo V15 G3 IAP...| 49990|    59|          intel|       core i7|       10|         12|        16|                 SSD|                     512|  No secondary storage|                         0|    intel|integrated|          False|        15.6|            1920|             1080|windows|               1|\n",
      "|   18|   asus|Asus TUF Gaming F...| 75990|    76|          intel|       core i7|        8|         16|        16|                 SSD|                    1024|  No secondary storage|                         0|   nvidia| dedicated|          False|        15.6|            1920|             1080|windows|               1|\n",
      "|   19|     hp|HP Victus 15-fb10...| 55490|    71|            amd|       ryzen 5|        6|         12|        16|                 SSD|                     512|  No secondary storage|                         0|   nvidia| dedicated|          False|        15.6|            1920|             1080|windows|               1|\n",
      "|   20|  wings|Wings Nuvobook V1...| 27990|    56|          intel|       core i5|        4|          8|         8|                 SSD|                     512|  No secondary storage|                         0|    intel|integrated|          False|        15.6|            1080|             1920|windows|               1|\n",
      "+-----+-------+--------------------+------+------+---------------+--------------+---------+-----------+----------+--------------------+------------------------+----------------------+--------------------------+---------+----------+---------------+------------+----------------+-----------------+-------+----------------+\n",
      "only showing top 20 rows\n",
      "\n"
     ]
    }
   ],
   "source": [
    "results.show()"
   ]
  },
  {
   "cell_type": "markdown",
   "metadata": {},
   "source": [
    "# Spark DataFrame Basic Operations"
   ]
  },
  {
   "cell_type": "code",
   "execution_count": 28,
   "metadata": {},
   "outputs": [
    {
     "name": "stdout",
     "output_type": "stream",
     "text": [
      "+-----+------+--------------------+------+------+---------------+--------------+---------+-----------+----------+--------------------+------------------------+----------------------+--------------------------+---------+----------+---------------+------------+----------------+-----------------+-------+----------------+\n",
      "|index| brand|               Model| Price|rating|processor_brand|processor_tier|num_cores|num_threads|ram_memory|primary_storage_type|primary_storage_capacity|secondary_storage_type|secondary_storage_capacity|gpu_brand|  gpu_type|is_touch_screen|display_size|resolution_width|resolution_height|     OS|year_of_warranty|\n",
      "+-----+------+--------------------+------+------+---------------+--------------+---------+-----------+----------+--------------------+------------------------+----------------------+--------------------------+---------+----------+---------------+------------+----------------+-----------------+-------+----------------+\n",
      "|    3|    hp|HP Victus 15-fb01...| 51100|    73|            amd|       ryzen 5|        6|         12|         8|                 SSD|                     512|  No secondary storage|                         0|      amd| dedicated|          False|        15.6|            1920|             1080|windows|               1|\n",
      "|   16|    hp|HP Omen 16-wf1025...|153990|    85|          intel|       core i7|       20|         28|        16|                 SSD|                    1024|  No secondary storage|                         0|   nvidia| dedicated|          False|        16.1|            2560|             1440|windows|               1|\n",
      "|   18|  asus|Asus TUF Gaming F...| 75990|    76|          intel|       core i7|        8|         16|        16|                 SSD|                    1024|  No secondary storage|                         0|   nvidia| dedicated|          False|        15.6|            1920|             1080|windows|               1|\n",
      "|   27|    hp|HP Victus 16-s009...| 78990|    77|            amd|       ryzen 7|        8|         16|        16|                 SSD|                    1024|  No secondary storage|                         0|   nvidia| dedicated|          False|        16.1|            1920|             1080|windows|               1|\n",
      "|   31|   msi|MSI GF63 Thin 11U...| 66780|    76|          intel|       core i7|        8|         16|        16|                 HDD|                    1024|                   SSD|                       256|   nvidia| dedicated|          False|        15.6|            1920|             1080|windows|  No information|\n",
      "|   41|  asus|Asus Vivobook 16X...| 63990|    72|          intel|       core i5|        8|         12|        16|                 SSD|                     512|  No secondary storage|                         0|   nvidia| dedicated|          False|        16.0|            1920|             1200|windows|               1|\n",
      "|   42|  asus|Asus ROG Flow X13...|113571|    77|            amd|       ryzen 9|        8|         16|        16|                 SSD|                     512|  No secondary storage|                         0|   nvidia| dedicated|           True|        13.4|            1920|             1200|windows|               1|\n",
      "|   46|    hp|HP Omen 16-xf0060...|116990|    80|            amd|       ryzen 7|        8|         16|        16|                 SSD|                    1024|  No secondary storage|                         0|   nvidia| dedicated|          False|        16.0|            1920|             1080|windows|               1|\n",
      "|   50|  asus|Asus ROG Strix SC...|269990|    83|          intel|       core i9|       24|         32|        32|                 SSD|                    1024|  No secondary storage|                         0|   nvidia| dedicated|          False|        16.0|            2560|             1600|windows|               1|\n",
      "|   58|    hp|HP Victus 16-s009...| 83590|    76|            amd|       ryzen 7|        8|         16|        16|                 SSD|                     512|  No secondary storage|                         0|   nvidia| dedicated|          False|        16.1|            1920|             1080|windows|               1|\n",
      "|   62|    hp|HP Omen 16-u0005T...|147990|    80|          intel|       core i7|       16|         24|        16|                 SSD|                    1024|  No secondary storage|                         0|   nvidia| dedicated|          False|        16.1|            2560|             1600|windows|               1|\n",
      "|   63|  asus|Asus TUF Gaming F...| 74085|    75|          intel|       core i5|       12|         16|        16|                 SSD|                     512|  No secondary storage|                         0|   nvidia| dedicated|          False|        17.3|            1920|             1080|windows|               1|\n",
      "|   69|  asus|Asus TUF Gaming F...|108990|    78|          intel|       core i7|       14|         20|        16|                 SSD|                     512|  No secondary storage|                         0|   nvidia| dedicated|          False|        15.6|            1920|             1080|windows|               1|\n",
      "|   70|  asus|Asus TUF Gaming F...| 57990|    72|          intel|       core i5|        6|         12|        16|                 SSD|                     512|  No secondary storage|                         0|   nvidia| dedicated|          False|        15.6|            1920|             1080|windows|               1|\n",
      "|   71|    hp|HP Victus 15-fa09...| 69999|    72|          intel|       core i5|        8|         12|        16|                 SSD|                     512|  No secondary storage|                         0|   nvidia| dedicated|          False|        15.6|            1920|             1080|windows|               1|\n",
      "|   85|  dell|Dell G15-5530 Gam...| 83990|    72|          intel|       core i5|       10|         16|        16|                 SSD|                    1024|  No secondary storage|                         0|   nvidia| dedicated|          False|        15.6|            1920|             1080|windows|               1|\n",
      "|   90|    hp|HP Victus 15-fa11...| 66990|    72|          intel|       core i5|        8|         12|        16|                 SSD|                    1024|  No secondary storage|                         0|   nvidia| dedicated|          False|        15.6|            1920|             1080|windows|               1|\n",
      "|   96|   msi|MSI Katana 15 B13...| 74990|    75|          intel|       core i5|       12|         16|        32|                 SSD|                    1024|  No secondary storage|                         0|   nvidia| dedicated|          False|        15.6|            1920|             1080|windows|               2|\n",
      "|  106|lenovo|Lenovo Yoga 7 82Y...| 94990|    80|            amd|       ryzen 7|        8|         16|        16|                 SSD|                    1024|  No secondary storage|                         0|      amd|integrated|           True|        14.0|            2880|             1800|windows|               1|\n",
      "|  115|  asus|Asus Vivobook 14X...| 85990|    75|          intel|       core i7|       10|         16|        16|                 SSD|                    1024|  No secondary storage|                         0|   nvidia| dedicated|          False|        14.0|            2880|             1800|windows|               1|\n",
      "+-----+------+--------------------+------+------+---------------+--------------+---------+-----------+----------+--------------------+------------------------+----------------------+--------------------------+---------+----------+---------------+------------+----------------+-----------------+-------+----------------+\n",
      "only showing top 20 rows\n",
      "\n"
     ]
    }
   ],
   "source": [
    "df.filter(\"rating > 71\").show()"
   ]
  },
  {
   "cell_type": "code",
   "execution_count": 31,
   "metadata": {},
   "outputs": [
    {
     "name": "stdout",
     "output_type": "stream",
     "text": [
      "+------+---------------+\n",
      "| Price|processor_brand|\n",
      "+------+---------------+\n",
      "| 51100|            amd|\n",
      "|153990|          intel|\n",
      "| 75990|          intel|\n",
      "| 78990|            amd|\n",
      "| 66780|          intel|\n",
      "| 63990|          intel|\n",
      "|113571|            amd|\n",
      "|116990|            amd|\n",
      "|269990|          intel|\n",
      "| 83590|            amd|\n",
      "|147990|          intel|\n",
      "| 74085|          intel|\n",
      "|108990|          intel|\n",
      "| 57990|          intel|\n",
      "| 69999|          intel|\n",
      "| 83990|          intel|\n",
      "| 66990|          intel|\n",
      "| 74990|          intel|\n",
      "| 94990|            amd|\n",
      "| 85990|          intel|\n",
      "+------+---------------+\n",
      "only showing top 20 rows\n",
      "\n"
     ]
    }
   ],
   "source": [
    "df.filter(\"rating > 71\").select([\"Price\", \"processor_brand\"]).show()"
   ]
  },
  {
   "cell_type": "code",
   "execution_count": 33,
   "metadata": {},
   "outputs": [
    {
     "name": "stdout",
     "output_type": "stream",
     "text": [
      "+-----+------+--------------------+------+------+---------------+--------------+---------+-----------+----------+--------------------+------------------------+----------------------+--------------------------+---------+----------+---------------+------------+----------------+-----------------+-------+----------------+\n",
      "|index| brand|               Model| Price|rating|processor_brand|processor_tier|num_cores|num_threads|ram_memory|primary_storage_type|primary_storage_capacity|secondary_storage_type|secondary_storage_capacity|gpu_brand|  gpu_type|is_touch_screen|display_size|resolution_width|resolution_height|     OS|year_of_warranty|\n",
      "+-----+------+--------------------+------+------+---------------+--------------+---------+-----------+----------+--------------------+------------------------+----------------------+--------------------------+---------+----------+---------------+------------+----------------+-----------------+-------+----------------+\n",
      "|    3|    hp|HP Victus 15-fb01...| 51100|    73|            amd|       ryzen 5|        6|         12|         8|                 SSD|                     512|  No secondary storage|                         0|      amd| dedicated|          False|        15.6|            1920|             1080|windows|               1|\n",
      "|   16|    hp|HP Omen 16-wf1025...|153990|    85|          intel|       core i7|       20|         28|        16|                 SSD|                    1024|  No secondary storage|                         0|   nvidia| dedicated|          False|        16.1|            2560|             1440|windows|               1|\n",
      "|   18|  asus|Asus TUF Gaming F...| 75990|    76|          intel|       core i7|        8|         16|        16|                 SSD|                    1024|  No secondary storage|                         0|   nvidia| dedicated|          False|        15.6|            1920|             1080|windows|               1|\n",
      "|   27|    hp|HP Victus 16-s009...| 78990|    77|            amd|       ryzen 7|        8|         16|        16|                 SSD|                    1024|  No secondary storage|                         0|   nvidia| dedicated|          False|        16.1|            1920|             1080|windows|               1|\n",
      "|   31|   msi|MSI GF63 Thin 11U...| 66780|    76|          intel|       core i7|        8|         16|        16|                 HDD|                    1024|                   SSD|                       256|   nvidia| dedicated|          False|        15.6|            1920|             1080|windows|  No information|\n",
      "|   41|  asus|Asus Vivobook 16X...| 63990|    72|          intel|       core i5|        8|         12|        16|                 SSD|                     512|  No secondary storage|                         0|   nvidia| dedicated|          False|        16.0|            1920|             1200|windows|               1|\n",
      "|   42|  asus|Asus ROG Flow X13...|113571|    77|            amd|       ryzen 9|        8|         16|        16|                 SSD|                     512|  No secondary storage|                         0|   nvidia| dedicated|           True|        13.4|            1920|             1200|windows|               1|\n",
      "|   46|    hp|HP Omen 16-xf0060...|116990|    80|            amd|       ryzen 7|        8|         16|        16|                 SSD|                    1024|  No secondary storage|                         0|   nvidia| dedicated|          False|        16.0|            1920|             1080|windows|               1|\n",
      "|   50|  asus|Asus ROG Strix SC...|269990|    83|          intel|       core i9|       24|         32|        32|                 SSD|                    1024|  No secondary storage|                         0|   nvidia| dedicated|          False|        16.0|            2560|             1600|windows|               1|\n",
      "|   58|    hp|HP Victus 16-s009...| 83590|    76|            amd|       ryzen 7|        8|         16|        16|                 SSD|                     512|  No secondary storage|                         0|   nvidia| dedicated|          False|        16.1|            1920|             1080|windows|               1|\n",
      "|   62|    hp|HP Omen 16-u0005T...|147990|    80|          intel|       core i7|       16|         24|        16|                 SSD|                    1024|  No secondary storage|                         0|   nvidia| dedicated|          False|        16.1|            2560|             1600|windows|               1|\n",
      "|   63|  asus|Asus TUF Gaming F...| 74085|    75|          intel|       core i5|       12|         16|        16|                 SSD|                     512|  No secondary storage|                         0|   nvidia| dedicated|          False|        17.3|            1920|             1080|windows|               1|\n",
      "|   69|  asus|Asus TUF Gaming F...|108990|    78|          intel|       core i7|       14|         20|        16|                 SSD|                     512|  No secondary storage|                         0|   nvidia| dedicated|          False|        15.6|            1920|             1080|windows|               1|\n",
      "|   70|  asus|Asus TUF Gaming F...| 57990|    72|          intel|       core i5|        6|         12|        16|                 SSD|                     512|  No secondary storage|                         0|   nvidia| dedicated|          False|        15.6|            1920|             1080|windows|               1|\n",
      "|   71|    hp|HP Victus 15-fa09...| 69999|    72|          intel|       core i5|        8|         12|        16|                 SSD|                     512|  No secondary storage|                         0|   nvidia| dedicated|          False|        15.6|            1920|             1080|windows|               1|\n",
      "|   85|  dell|Dell G15-5530 Gam...| 83990|    72|          intel|       core i5|       10|         16|        16|                 SSD|                    1024|  No secondary storage|                         0|   nvidia| dedicated|          False|        15.6|            1920|             1080|windows|               1|\n",
      "|   90|    hp|HP Victus 15-fa11...| 66990|    72|          intel|       core i5|        8|         12|        16|                 SSD|                    1024|  No secondary storage|                         0|   nvidia| dedicated|          False|        15.6|            1920|             1080|windows|               1|\n",
      "|   96|   msi|MSI Katana 15 B13...| 74990|    75|          intel|       core i5|       12|         16|        32|                 SSD|                    1024|  No secondary storage|                         0|   nvidia| dedicated|          False|        15.6|            1920|             1080|windows|               2|\n",
      "|  106|lenovo|Lenovo Yoga 7 82Y...| 94990|    80|            amd|       ryzen 7|        8|         16|        16|                 SSD|                    1024|  No secondary storage|                         0|      amd|integrated|           True|        14.0|            2880|             1800|windows|               1|\n",
      "|  115|  asus|Asus Vivobook 14X...| 85990|    75|          intel|       core i7|       10|         16|        16|                 SSD|                    1024|  No secondary storage|                         0|   nvidia| dedicated|          False|        14.0|            2880|             1800|windows|               1|\n",
      "+-----+------+--------------------+------+------+---------------+--------------+---------+-----------+----------+--------------------+------------------------+----------------------+--------------------------+---------+----------+---------------+------------+----------------+-----------------+-------+----------------+\n",
      "only showing top 20 rows\n",
      "\n"
     ]
    }
   ],
   "source": [
    "df.filter(df['rating'] > 71).show()"
   ]
  },
  {
   "cell_type": "code",
   "execution_count": 34,
   "metadata": {},
   "outputs": [
    {
     "name": "stdout",
     "output_type": "stream",
     "text": [
      "+-----+------+--------------------+------+------+---------------+--------------+---------+-----------+----------+--------------------+------------------------+----------------------+--------------------------+---------+----------+---------------+------------+----------------+-----------------+-------+----------------+\n",
      "|index| brand|               Model| Price|rating|processor_brand|processor_tier|num_cores|num_threads|ram_memory|primary_storage_type|primary_storage_capacity|secondary_storage_type|secondary_storage_capacity|gpu_brand|  gpu_type|is_touch_screen|display_size|resolution_width|resolution_height|     OS|year_of_warranty|\n",
      "+-----+------+--------------------+------+------+---------------+--------------+---------+-----------+----------+--------------------+------------------------+----------------------+--------------------------+---------+----------+---------------+------------+----------------+-----------------+-------+----------------+\n",
      "|    3|    hp|HP Victus 15-fb01...| 51100|    73|            amd|       ryzen 5|        6|         12|         8|                 SSD|                     512|  No secondary storage|                         0|      amd| dedicated|          False|        15.6|            1920|             1080|windows|               1|\n",
      "|   16|    hp|HP Omen 16-wf1025...|153990|    85|          intel|       core i7|       20|         28|        16|                 SSD|                    1024|  No secondary storage|                         0|   nvidia| dedicated|          False|        16.1|            2560|             1440|windows|               1|\n",
      "|   18|  asus|Asus TUF Gaming F...| 75990|    76|          intel|       core i7|        8|         16|        16|                 SSD|                    1024|  No secondary storage|                         0|   nvidia| dedicated|          False|        15.6|            1920|             1080|windows|               1|\n",
      "|   27|    hp|HP Victus 16-s009...| 78990|    77|            amd|       ryzen 7|        8|         16|        16|                 SSD|                    1024|  No secondary storage|                         0|   nvidia| dedicated|          False|        16.1|            1920|             1080|windows|               1|\n",
      "|   31|   msi|MSI GF63 Thin 11U...| 66780|    76|          intel|       core i7|        8|         16|        16|                 HDD|                    1024|                   SSD|                       256|   nvidia| dedicated|          False|        15.6|            1920|             1080|windows|  No information|\n",
      "|   41|  asus|Asus Vivobook 16X...| 63990|    72|          intel|       core i5|        8|         12|        16|                 SSD|                     512|  No secondary storage|                         0|   nvidia| dedicated|          False|        16.0|            1920|             1200|windows|               1|\n",
      "|   42|  asus|Asus ROG Flow X13...|113571|    77|            amd|       ryzen 9|        8|         16|        16|                 SSD|                     512|  No secondary storage|                         0|   nvidia| dedicated|           True|        13.4|            1920|             1200|windows|               1|\n",
      "|   46|    hp|HP Omen 16-xf0060...|116990|    80|            amd|       ryzen 7|        8|         16|        16|                 SSD|                    1024|  No secondary storage|                         0|   nvidia| dedicated|          False|        16.0|            1920|             1080|windows|               1|\n",
      "|   50|  asus|Asus ROG Strix SC...|269990|    83|          intel|       core i9|       24|         32|        32|                 SSD|                    1024|  No secondary storage|                         0|   nvidia| dedicated|          False|        16.0|            2560|             1600|windows|               1|\n",
      "|   58|    hp|HP Victus 16-s009...| 83590|    76|            amd|       ryzen 7|        8|         16|        16|                 SSD|                     512|  No secondary storage|                         0|   nvidia| dedicated|          False|        16.1|            1920|             1080|windows|               1|\n",
      "|   62|    hp|HP Omen 16-u0005T...|147990|    80|          intel|       core i7|       16|         24|        16|                 SSD|                    1024|  No secondary storage|                         0|   nvidia| dedicated|          False|        16.1|            2560|             1600|windows|               1|\n",
      "|   63|  asus|Asus TUF Gaming F...| 74085|    75|          intel|       core i5|       12|         16|        16|                 SSD|                     512|  No secondary storage|                         0|   nvidia| dedicated|          False|        17.3|            1920|             1080|windows|               1|\n",
      "|   69|  asus|Asus TUF Gaming F...|108990|    78|          intel|       core i7|       14|         20|        16|                 SSD|                     512|  No secondary storage|                         0|   nvidia| dedicated|          False|        15.6|            1920|             1080|windows|               1|\n",
      "|   70|  asus|Asus TUF Gaming F...| 57990|    72|          intel|       core i5|        6|         12|        16|                 SSD|                     512|  No secondary storage|                         0|   nvidia| dedicated|          False|        15.6|            1920|             1080|windows|               1|\n",
      "|   71|    hp|HP Victus 15-fa09...| 69999|    72|          intel|       core i5|        8|         12|        16|                 SSD|                     512|  No secondary storage|                         0|   nvidia| dedicated|          False|        15.6|            1920|             1080|windows|               1|\n",
      "|   85|  dell|Dell G15-5530 Gam...| 83990|    72|          intel|       core i5|       10|         16|        16|                 SSD|                    1024|  No secondary storage|                         0|   nvidia| dedicated|          False|        15.6|            1920|             1080|windows|               1|\n",
      "|   90|    hp|HP Victus 15-fa11...| 66990|    72|          intel|       core i5|        8|         12|        16|                 SSD|                    1024|  No secondary storage|                         0|   nvidia| dedicated|          False|        15.6|            1920|             1080|windows|               1|\n",
      "|   96|   msi|MSI Katana 15 B13...| 74990|    75|          intel|       core i5|       12|         16|        32|                 SSD|                    1024|  No secondary storage|                         0|   nvidia| dedicated|          False|        15.6|            1920|             1080|windows|               2|\n",
      "|  106|lenovo|Lenovo Yoga 7 82Y...| 94990|    80|            amd|       ryzen 7|        8|         16|        16|                 SSD|                    1024|  No secondary storage|                         0|      amd|integrated|           True|        14.0|            2880|             1800|windows|               1|\n",
      "|  115|  asus|Asus Vivobook 14X...| 85990|    75|          intel|       core i7|       10|         16|        16|                 SSD|                    1024|  No secondary storage|                         0|   nvidia| dedicated|          False|        14.0|            2880|             1800|windows|               1|\n",
      "+-----+------+--------------------+------+------+---------------+--------------+---------+-----------+----------+--------------------+------------------------+----------------------+--------------------------+---------+----------+---------------+------------+----------------+-----------------+-------+----------------+\n",
      "only showing top 20 rows\n",
      "\n"
     ]
    }
   ],
   "source": [
    "df.filter(df['rating'] > 71).show()"
   ]
  },
  {
   "cell_type": "code",
   "execution_count": 35,
   "metadata": {},
   "outputs": [
    {
     "name": "stdout",
     "output_type": "stream",
     "text": [
      "+-----+-----+--------------------+------+------+---------------+--------------+---------+-----------+----------+--------------------+------------------------+----------------------+--------------------------+---------+---------+---------------+------------+----------------+-----------------+-------+----------------+\n",
      "|index|brand|               Model| Price|rating|processor_brand|processor_tier|num_cores|num_threads|ram_memory|primary_storage_type|primary_storage_capacity|secondary_storage_type|secondary_storage_capacity|gpu_brand| gpu_type|is_touch_screen|display_size|resolution_width|resolution_height|     OS|year_of_warranty|\n",
      "+-----+-----+--------------------+------+------+---------------+--------------+---------+-----------+----------+--------------------+------------------------+----------------------+--------------------------+---------+---------+---------------+------------+----------------+-----------------+-------+----------------+\n",
      "|   16|   hp|HP Omen 16-wf1025...|153990|    85|          intel|       core i7|       20|         28|        16|                 SSD|                    1024|  No secondary storage|                         0|   nvidia|dedicated|          False|        16.1|            2560|             1440|windows|               1|\n",
      "|   18| asus|Asus TUF Gaming F...| 75990|    76|          intel|       core i7|        8|         16|        16|                 SSD|                    1024|  No secondary storage|                         0|   nvidia|dedicated|          False|        15.6|            1920|             1080|windows|               1|\n",
      "|   31|  msi|MSI GF63 Thin 11U...| 66780|    76|          intel|       core i7|        8|         16|        16|                 HDD|                    1024|                   SSD|                       256|   nvidia|dedicated|          False|        15.6|            1920|             1080|windows|  No information|\n",
      "|   41| asus|Asus Vivobook 16X...| 63990|    72|          intel|       core i5|        8|         12|        16|                 SSD|                     512|  No secondary storage|                         0|   nvidia|dedicated|          False|        16.0|            1920|             1200|windows|               1|\n",
      "|   50| asus|Asus ROG Strix SC...|269990|    83|          intel|       core i9|       24|         32|        32|                 SSD|                    1024|  No secondary storage|                         0|   nvidia|dedicated|          False|        16.0|            2560|             1600|windows|               1|\n",
      "|   62|   hp|HP Omen 16-u0005T...|147990|    80|          intel|       core i7|       16|         24|        16|                 SSD|                    1024|  No secondary storage|                         0|   nvidia|dedicated|          False|        16.1|            2560|             1600|windows|               1|\n",
      "|   63| asus|Asus TUF Gaming F...| 74085|    75|          intel|       core i5|       12|         16|        16|                 SSD|                     512|  No secondary storage|                         0|   nvidia|dedicated|          False|        17.3|            1920|             1080|windows|               1|\n",
      "|   69| asus|Asus TUF Gaming F...|108990|    78|          intel|       core i7|       14|         20|        16|                 SSD|                     512|  No secondary storage|                         0|   nvidia|dedicated|          False|        15.6|            1920|             1080|windows|               1|\n",
      "|   70| asus|Asus TUF Gaming F...| 57990|    72|          intel|       core i5|        6|         12|        16|                 SSD|                     512|  No secondary storage|                         0|   nvidia|dedicated|          False|        15.6|            1920|             1080|windows|               1|\n",
      "|   71|   hp|HP Victus 15-fa09...| 69999|    72|          intel|       core i5|        8|         12|        16|                 SSD|                     512|  No secondary storage|                         0|   nvidia|dedicated|          False|        15.6|            1920|             1080|windows|               1|\n",
      "|   85| dell|Dell G15-5530 Gam...| 83990|    72|          intel|       core i5|       10|         16|        16|                 SSD|                    1024|  No secondary storage|                         0|   nvidia|dedicated|          False|        15.6|            1920|             1080|windows|               1|\n",
      "|   90|   hp|HP Victus 15-fa11...| 66990|    72|          intel|       core i5|        8|         12|        16|                 SSD|                    1024|  No secondary storage|                         0|   nvidia|dedicated|          False|        15.6|            1920|             1080|windows|               1|\n",
      "|   96|  msi|MSI Katana 15 B13...| 74990|    75|          intel|       core i5|       12|         16|        32|                 SSD|                    1024|  No secondary storage|                         0|   nvidia|dedicated|          False|        15.6|            1920|             1080|windows|               2|\n",
      "|  115| asus|Asus Vivobook 14X...| 85990|    75|          intel|       core i7|       10|         16|        16|                 SSD|                    1024|  No secondary storage|                         0|   nvidia|dedicated|          False|        14.0|            2880|             1800|windows|               1|\n",
      "|  118| asus|Asus Vivobook 14X...| 67990|    72|          intel|       core i5|        8|         12|        16|                 SSD|                     512|  No secondary storage|                         0|   nvidia|dedicated|          False|        14.0|            2880|             1800|windows|               1|\n",
      "|  119| acer|Acer Nitro 5 AN51...| 94990|    72|          intel|       core i7|       10|         16|        16|                 SSD|                     512|  No secondary storage|                         0|   nvidia|dedicated|          False|        15.6|            1920|             1080|windows|               1|\n",
      "|  120| asus|Asus TUF Gaming F...| 75250|    72|          intel|       core i5|       12|         16|         8|                 SSD|                     512|  No secondary storage|                         0|   nvidia|dedicated|          False|        15.6|            1920|             1080|windows|               1|\n",
      "|  124| asus|Asus Vivobook Pro...|154990|    88|          intel|       core i9|       14|         20|        16|                 SSD|                    1024|  No secondary storage|                         0|   nvidia|dedicated|          False|        16.0|            3200|             2000|windows|               1|\n",
      "|  125| acer|Acer Predator Hel...|119990|    75|          intel|       core i7|       16|         24|        16|                 SSD|                     512|  No secondary storage|                         0|   nvidia|dedicated|          False|        16.0|            1920|             1200|windows|               1|\n",
      "|  134| dell|Dell G15-5520 Gam...| 68990|    74|          intel|       core i5|       12|         16|         8|                 SSD|                     512|  No secondary storage|                         0|   nvidia|dedicated|          False|        15.6|            1920|             1080|windows|               1|\n",
      "+-----+-----+--------------------+------+------+---------------+--------------+---------+-----------+----------+--------------------+------------------------+----------------------+--------------------------+---------+---------+---------------+------------+----------------+-----------------+-------+----------------+\n",
      "only showing top 20 rows\n",
      "\n"
     ]
    }
   ],
   "source": [
    "df.filter((df['rating'] > 71) & (df['processor_brand'] == 'intel')).show()"
   ]
  },
  {
   "cell_type": "code",
   "execution_count": 36,
   "metadata": {},
   "outputs": [
    {
     "name": "stdout",
     "output_type": "stream",
     "text": [
      "+-----+------+--------------------+------+------+---------------+--------------+---------+-----------+----------+--------------------+------------------------+----------------------+--------------------------+---------+----------+---------------+------------+----------------+-----------------+-------+----------------+\n",
      "|index| brand|               Model| Price|rating|processor_brand|processor_tier|num_cores|num_threads|ram_memory|primary_storage_type|primary_storage_capacity|secondary_storage_type|secondary_storage_capacity|gpu_brand|  gpu_type|is_touch_screen|display_size|resolution_width|resolution_height|     OS|year_of_warranty|\n",
      "+-----+------+--------------------+------+------+---------------+--------------+---------+-----------+----------+--------------------+------------------------+----------------------+--------------------------+---------+----------+---------------+------------+----------------+-----------------+-------+----------------+\n",
      "|    3|    hp|HP Victus 15-fb01...| 51100|    73|            amd|       ryzen 5|        6|         12|         8|                 SSD|                     512|  No secondary storage|                         0|      amd| dedicated|          False|        15.6|            1920|             1080|windows|               1|\n",
      "|   27|    hp|HP Victus 16-s009...| 78990|    77|            amd|       ryzen 7|        8|         16|        16|                 SSD|                    1024|  No secondary storage|                         0|   nvidia| dedicated|          False|        16.1|            1920|             1080|windows|               1|\n",
      "|   42|  asus|Asus ROG Flow X13...|113571|    77|            amd|       ryzen 9|        8|         16|        16|                 SSD|                     512|  No secondary storage|                         0|   nvidia| dedicated|           True|        13.4|            1920|             1200|windows|               1|\n",
      "|   46|    hp|HP Omen 16-xf0060...|116990|    80|            amd|       ryzen 7|        8|         16|        16|                 SSD|                    1024|  No secondary storage|                         0|   nvidia| dedicated|          False|        16.0|            1920|             1080|windows|               1|\n",
      "|   58|    hp|HP Victus 16-s009...| 83590|    76|            amd|       ryzen 7|        8|         16|        16|                 SSD|                     512|  No secondary storage|                         0|   nvidia| dedicated|          False|        16.1|            1920|             1080|windows|               1|\n",
      "|  106|lenovo|Lenovo Yoga 7 82Y...| 94990|    80|            amd|       ryzen 7|        8|         16|        16|                 SSD|                    1024|  No secondary storage|                         0|      amd|integrated|           True|        14.0|            2880|             1800|windows|               1|\n",
      "|  135|  asus|Asus ROG Flow X13...| 96389|    79|            amd|       ryzen 9|        8|         16|        16|                 SSD|                    1024|  No secondary storage|                         0|   nvidia| dedicated|           True|        13.4|            1920|             1200|windows|               1|\n",
      "|  163|lenovo|Lenovo Legion Sli...|132190|    83|            amd|       ryzen 7|        8|         16|        16|                 SSD|                    1024|  No secondary storage|                         0|   nvidia| dedicated|          False|        16.0|            2560|             1600|windows|               1|\n",
      "|  195|    hp|HP Victus 16-s008...| 87090|    76|            amd|       ryzen 7|        8|         16|        16|                 SSD|                    1024|  No secondary storage|                         0|   nvidia| dedicated|          False|        16.1|            1920|             1080|windows|               1|\n",
      "|  234|  asus|ASUS TUF Gaming A...|119990|    80|            amd|       ryzen 9|        8|         16|        16|                 SSD|                    1024|  No secondary storage|                         0|      amd| dedicated|          False|        15.6|            1920|             1200|windows|               1|\n",
      "|  279|lenovo|Lenovo Legion 5 8...| 99990|    78|            amd|       ryzen 7|        8|         16|        16|                 SSD|                    1024|  No secondary storage|                         0|   nvidia| dedicated|          False|        16.0|            2560|             1600|windows|               1|\n",
      "|  283|  asus|Asus ROG Zephyrus...|144990|    85|            amd|       ryzen 9|        8|         16|        16|                 SSD|                    1024|  No secondary storage|                         0|   nvidia| dedicated|          False|        15.6|            2560|             1440|windows|               1|\n",
      "|  285|lenovo|Lenovo IdeaPad Ga...| 64990|    74|            amd|       ryzen 5|        6|         12|        16|                 SSD|                     512|  No secondary storage|                         0|   nvidia| dedicated|          False|        15.6|            1920|             1080|windows|               1|\n",
      "|  340|lenovo|Lenovo LOQ 15APH8...|107911|    75|            amd|       ryzen 7|        8|         16|        16|                 SSD|                     512|  No secondary storage|                         0|   nvidia| dedicated|          False|        15.6|            1920|             1080|windows|               1|\n",
      "|  346|    hp|HP Omen 16-xd0005...|111943|    78|            amd|       ryzen 7|        8|         16|        16|                 SSD|                    1024|  No secondary storage|                         0|   nvidia| dedicated|          False|        16.1|            1920|             1080|windows|               1|\n",
      "|  358|    hp|HP Omen 16-XD0007...|112990|    76|            amd|       ryzen 7|        8|         16|        16|                 SSD|                    1024|  No secondary storage|                         0|   nvidia| dedicated|          False|        16.1|            1920|             1080|windows|               1|\n",
      "|  410|lenovo|Lenovo Legion Pro...|164190|    84|            amd|       ryzen 7|        8|         16|        16|                 SSD|                    1024|  No secondary storage|                         0|   nvidia| dedicated|          False|        16.0|            2560|             1600|windows|               1|\n",
      "|  414|lenovo|Lenovo Legion 5 P...|103395|    77|            amd|       ryzen 7|        8|         16|        16|                 SSD|                     512|  No secondary storage|                         0|   nvidia| dedicated|          False|        16.0|            2560|             1600|windows|               1|\n",
      "|  463|lenovo|Lenovo Legion Sli...|128990|    83|            amd|       ryzen 7|        8|         16|        16|                 SSD|                     512|  No secondary storage|                         0|   nvidia| dedicated|          False|        16.0|            2560|             1600|windows|               1|\n",
      "|  464|lenovo|Lenovo Legion Sli...|113990|    79|            amd|       ryzen 7|        8|         16|        16|                 SSD|                     512|  No secondary storage|                         0|   nvidia| dedicated|          False|        16.0|            1920|             1200|windows|               1|\n",
      "+-----+------+--------------------+------+------+---------------+--------------+---------+-----------+----------+--------------------+------------------------+----------------------+--------------------------+---------+----------+---------------+------------+----------------+-----------------+-------+----------------+\n",
      "only showing top 20 rows\n",
      "\n"
     ]
    }
   ],
   "source": [
    "# & ~ means and not\n",
    "df.filter((df['rating'] > 71) & ~(df['processor_brand'] == 'intel')).show()"
   ]
  },
  {
   "cell_type": "code",
   "execution_count": 40,
   "metadata": {},
   "outputs": [],
   "source": [
    "# .collect allows to save the results to a list and further itereate\n",
    "amd = df.filter((df['rating'] > 71) & ~(df['processor_brand'] == 'intel')).collect()"
   ]
  },
  {
   "cell_type": "code",
   "execution_count": 41,
   "metadata": {},
   "outputs": [
    {
     "data": {
      "text/plain": [
       "[Row(index='3', brand='hp', Model='HP Victus 15-fb0157AX Gaming Laptop (AMD Ryzen 5 5600H/ 8GB/ 512GB SSD/ Win11/ 4GB Graph)', Price=51100, rating=73, processor_brand='amd', processor_tier='ryzen 5', num_cores=6, num_threads=12, ram_memory=8, primary_storage_type='SSD', primary_storage_capacity=512, secondary_storage_type='No secondary storage', secondary_storage_capacity=0, gpu_brand='amd', gpu_type='dedicated', is_touch_screen='False', display_size=15.600000381469727, resolution_width=1920, resolution_height=1080, OS='windows', year_of_warranty='1'),\n",
       " Row(index='27', brand='hp', Model='HP Victus 16-s0094AX Gaming Laptop (AMD Ryzen 7 7840HS/ 16GB/ 1TB SSD/ Win11/ 6GB Graph)', Price=78990, rating=77, processor_brand='amd', processor_tier='ryzen 7', num_cores=8, num_threads=16, ram_memory=16, primary_storage_type='SSD', primary_storage_capacity=1024, secondary_storage_type='No secondary storage', secondary_storage_capacity=0, gpu_brand='nvidia', gpu_type='dedicated', is_touch_screen='False', display_size=16.100000381469727, resolution_width=1920, resolution_height=1080, OS='windows', year_of_warranty='1'),\n",
       " Row(index='42', brand='asus', Model='Asus ROG Flow X13 GV301RC-LJ132WS Gaming Laptop (AMD Ryzen 9 6900HS/ 16GB/ 512GB SSD/ Win11 Home/ 4GB Graph)', Price=113571, rating=77, processor_brand='amd', processor_tier='ryzen 9', num_cores=8, num_threads=16, ram_memory=16, primary_storage_type='SSD', primary_storage_capacity=512, secondary_storage_type='No secondary storage', secondary_storage_capacity=0, gpu_brand='nvidia', gpu_type='dedicated', is_touch_screen='True', display_size=13.399999618530273, resolution_width=1920, resolution_height=1200, OS='windows', year_of_warranty='1'),\n",
       " Row(index='46', brand='hp', Model='HP Omen 16-xf0060AX Gaming Laptop (AMD Ryzen 7 7840HS/ 16GB/ 1TB SSD/ Win11/ 8GB Graph)', Price=116990, rating=80, processor_brand='amd', processor_tier='ryzen 7', num_cores=8, num_threads=16, ram_memory=16, primary_storage_type='SSD', primary_storage_capacity=1024, secondary_storage_type='No secondary storage', secondary_storage_capacity=0, gpu_brand='nvidia', gpu_type='dedicated', is_touch_screen='False', display_size=16.0, resolution_width=1920, resolution_height=1080, OS='windows', year_of_warranty='1'),\n",
       " Row(index='58', brand='hp', Model='HP Victus 16-s0095AX Gaming Laptop (AMD Ryzen 7 7840HS/ 16GB/ 512GB SSD/ Win11/ 6GB Graph)', Price=83590, rating=76, processor_brand='amd', processor_tier='ryzen 7', num_cores=8, num_threads=16, ram_memory=16, primary_storage_type='SSD', primary_storage_capacity=512, secondary_storage_type='No secondary storage', secondary_storage_capacity=0, gpu_brand='nvidia', gpu_type='dedicated', is_touch_screen='False', display_size=16.100000381469727, resolution_width=1920, resolution_height=1080, OS='windows', year_of_warranty='1'),\n",
       " Row(index='106', brand='lenovo', Model='Lenovo Yoga 7 82YM0074IN Laptop (AMD Ryzen 7 7735U/ 16GB/ 1TB SSD/ Win11 Home)', Price=94990, rating=80, processor_brand='amd', processor_tier='ryzen 7', num_cores=8, num_threads=16, ram_memory=16, primary_storage_type='SSD', primary_storage_capacity=1024, secondary_storage_type='No secondary storage', secondary_storage_capacity=0, gpu_brand='amd', gpu_type='integrated', is_touch_screen='True', display_size=14.0, resolution_width=2880, resolution_height=1800, OS='windows', year_of_warranty='1'),\n",
       " Row(index='135', brand='asus', Model='Asus ROG Flow X13 GV301RC-LJ073WS Gaming Laptop (AMD Ryzen 9 6900HS/ 16GB/ 1TB SSD/ Win11 Home/ 4GB Graph)', Price=96389, rating=79, processor_brand='amd', processor_tier='ryzen 9', num_cores=8, num_threads=16, ram_memory=16, primary_storage_type='SSD', primary_storage_capacity=1024, secondary_storage_type='No secondary storage', secondary_storage_capacity=0, gpu_brand='nvidia', gpu_type='dedicated', is_touch_screen='True', display_size=13.399999618530273, resolution_width=1920, resolution_height=1200, OS='windows', year_of_warranty='1'),\n",
       " Row(index='163', brand='lenovo', Model='Lenovo Legion Slim 5 82Y9009JIN Gaming Laptop (AMD Ryzen 7 7840HS/ 16GB/ 1TB SSD/ Win11/ 8GB Graph)', Price=132190, rating=83, processor_brand='amd', processor_tier='ryzen 7', num_cores=8, num_threads=16, ram_memory=16, primary_storage_type='SSD', primary_storage_capacity=1024, secondary_storage_type='No secondary storage', secondary_storage_capacity=0, gpu_brand='nvidia', gpu_type='dedicated', is_touch_screen='False', display_size=16.0, resolution_width=2560, resolution_height=1600, OS='windows', year_of_warranty='1'),\n",
       " Row(index='195', brand='hp', Model='HP Victus 16-s0089AX Gaming Laptop (AMD Ryzen 7 7840HS/ 16GB/ 1TB SSD/ Win11/ 4GB Graph)', Price=87090, rating=76, processor_brand='amd', processor_tier='ryzen 7', num_cores=8, num_threads=16, ram_memory=16, primary_storage_type='SSD', primary_storage_capacity=1024, secondary_storage_type='No secondary storage', secondary_storage_capacity=0, gpu_brand='nvidia', gpu_type='dedicated', is_touch_screen='False', display_size=16.100000381469727, resolution_width=1920, resolution_height=1080, OS='windows', year_of_warranty='1'),\n",
       " Row(index='234', brand='asus', Model='ASUS TUF Gaming A16 Advantage Edition FA617XS-N3025WS Gaming Laptop (AMD Ryzen 9 7940HS / 16GB/ 1TB SSD/ Win11 Home/ 8GB Graph)', Price=119990, rating=80, processor_brand='amd', processor_tier='ryzen 9', num_cores=8, num_threads=16, ram_memory=16, primary_storage_type='SSD', primary_storage_capacity=1024, secondary_storage_type='No secondary storage', secondary_storage_capacity=0, gpu_brand='amd', gpu_type='dedicated', is_touch_screen='False', display_size=15.600000381469727, resolution_width=1920, resolution_height=1200, OS='windows', year_of_warranty='1'),\n",
       " Row(index='279', brand='lenovo', Model='Lenovo Legion 5 82JU00SYIN Laptop (AMD Ryzen 7 5800H/ 16GB/ 1TB SSD/ Win11 Home/ 6GB Graph)', Price=99990, rating=78, processor_brand='amd', processor_tier='ryzen 7', num_cores=8, num_threads=16, ram_memory=16, primary_storage_type='SSD', primary_storage_capacity=1024, secondary_storage_type='No secondary storage', secondary_storage_capacity=0, gpu_brand='nvidia', gpu_type='dedicated', is_touch_screen='False', display_size=16.0, resolution_width=2560, resolution_height=1600, OS='windows', year_of_warranty='1'),\n",
       " Row(index='283', brand='asus', Model='Asus ROG Zephyrus G15 2022 GA503RW-LN067WS Gaming Laptop (AMD Ryzen 9 6900HS/ 16GB/ 1TB SSD/ Win11 Home/ 8GB Graph)', Price=144990, rating=85, processor_brand='amd', processor_tier='ryzen 9', num_cores=8, num_threads=16, ram_memory=16, primary_storage_type='SSD', primary_storage_capacity=1024, secondary_storage_type='No secondary storage', secondary_storage_capacity=0, gpu_brand='nvidia', gpu_type='dedicated', is_touch_screen='False', display_size=15.600000381469727, resolution_width=2560, resolution_height=1440, OS='windows', year_of_warranty='1'),\n",
       " Row(index='285', brand='lenovo', Model='Lenovo IdeaPad Gaming 3 82K201ULIN Laptop (Ryzen 5 5600H/ 16GB/ 512GB SSD/ Win11 Home/ 4GB Graph)', Price=64990, rating=74, processor_brand='amd', processor_tier='ryzen 5', num_cores=6, num_threads=12, ram_memory=16, primary_storage_type='SSD', primary_storage_capacity=512, secondary_storage_type='No secondary storage', secondary_storage_capacity=0, gpu_brand='nvidia', gpu_type='dedicated', is_touch_screen='False', display_size=15.600000381469727, resolution_width=1920, resolution_height=1080, OS='windows', year_of_warranty='1'),\n",
       " Row(index='340', brand='lenovo', Model='Lenovo LOQ 15APH8 82XT004KIN Gaming Laptop (AMD Ryzen 7 7840HS/ 16GB/ 512GB SSD/ Win11/ 8GB Graph)', Price=107911, rating=75, processor_brand='amd', processor_tier='ryzen 7', num_cores=8, num_threads=16, ram_memory=16, primary_storage_type='SSD', primary_storage_capacity=512, secondary_storage_type='No secondary storage', secondary_storage_capacity=0, gpu_brand='nvidia', gpu_type='dedicated', is_touch_screen='False', display_size=15.600000381469727, resolution_width=1920, resolution_height=1080, OS='windows', year_of_warranty='1'),\n",
       " Row(index='346', brand='hp', Model='HP Omen 16-xd0005AX Gaming Laptop (AMD Ryzen 7 7840HS/ 16GB/ 1TB SSD/ Win11/ 6GB Graph)', Price=111943, rating=78, processor_brand='amd', processor_tier='ryzen 7', num_cores=8, num_threads=16, ram_memory=16, primary_storage_type='SSD', primary_storage_capacity=1024, secondary_storage_type='No secondary storage', secondary_storage_capacity=0, gpu_brand='nvidia', gpu_type='dedicated', is_touch_screen='False', display_size=16.100000381469727, resolution_width=1920, resolution_height=1080, OS='windows', year_of_warranty='1'),\n",
       " Row(index='358', brand='hp', Model='HP Omen 16-XD0007ax Gaming Laptop (AMD Ryzen 7 7840HS/ 16GB/ 1TB SSD/ Win11/ 6GB Graph)', Price=112990, rating=76, processor_brand='amd', processor_tier='ryzen 7', num_cores=8, num_threads=16, ram_memory=16, primary_storage_type='SSD', primary_storage_capacity=1024, secondary_storage_type='No secondary storage', secondary_storage_capacity=0, gpu_brand='nvidia', gpu_type='dedicated', is_touch_screen='False', display_size=16.100000381469727, resolution_width=1920, resolution_height=1080, OS='windows', year_of_warranty='1'),\n",
       " Row(index='410', brand='lenovo', Model='Lenovo Legion Pro 5 82WM00B7IN Gaming Laptop ( AMD Ryzen 7 7745HX/ 16GB/ 1TB SSD/ Win11 Home/ 8GB Graph)', Price=164190, rating=84, processor_brand='amd', processor_tier='ryzen 7', num_cores=8, num_threads=16, ram_memory=16, primary_storage_type='SSD', primary_storage_capacity=1024, secondary_storage_type='No secondary storage', secondary_storage_capacity=0, gpu_brand='nvidia', gpu_type='dedicated', is_touch_screen='False', display_size=16.0, resolution_width=2560, resolution_height=1600, OS='windows', year_of_warranty='1'),\n",
       " Row(index='414', brand='lenovo', Model='Lenovo Legion 5 Pro 82JQ010EIN Laptop (AMD Ryzen 7 5800H/ 16GB/ 512GB SSD/ Win11 Home/ 6GB Graph)', Price=103395, rating=77, processor_brand='amd', processor_tier='ryzen 7', num_cores=8, num_threads=16, ram_memory=16, primary_storage_type='SSD', primary_storage_capacity=512, secondary_storage_type='No secondary storage', secondary_storage_capacity=0, gpu_brand='nvidia', gpu_type='dedicated', is_touch_screen='False', display_size=16.0, resolution_width=2560, resolution_height=1600, OS='windows', year_of_warranty='1'),\n",
       " Row(index='463', brand='lenovo', Model='Lenovo Legion Slim 5 16APH8 82Y90042IN Gaming Laptop (AMD Ryzen 7 7840HS/ 16GB/ 512GB SSD/ Win11/ 8GB Graph)', Price=128990, rating=83, processor_brand='amd', processor_tier='ryzen 7', num_cores=8, num_threads=16, ram_memory=16, primary_storage_type='SSD', primary_storage_capacity=512, secondary_storage_type='No secondary storage', secondary_storage_capacity=0, gpu_brand='nvidia', gpu_type='dedicated', is_touch_screen='False', display_size=16.0, resolution_width=2560, resolution_height=1600, OS='windows', year_of_warranty='1'),\n",
       " Row(index='464', brand='lenovo', Model='Lenovo Legion Slim 5 82Y9009KIN Gaming Laptop (AMD Ryzen 7 7840HS/ 16GB/ 512GB SSD/ Win11/ 6GB Graph)', Price=113990, rating=79, processor_brand='amd', processor_tier='ryzen 7', num_cores=8, num_threads=16, ram_memory=16, primary_storage_type='SSD', primary_storage_capacity=512, secondary_storage_type='No secondary storage', secondary_storage_capacity=0, gpu_brand='nvidia', gpu_type='dedicated', is_touch_screen='False', display_size=16.0, resolution_width=1920, resolution_height=1200, OS='windows', year_of_warranty='1'),\n",
       " Row(index='472', brand='lenovo', Model='Lenovo Legion Slim 5 16APH8 82Y9008MIN Gaming Laptop (AMD Ryzen 7 7840HS/ 16GB/ 512GB SSD/ Win11/ 8GB Graph)', Price=137490, rating=83, processor_brand='amd', processor_tier='ryzen 7', num_cores=8, num_threads=16, ram_memory=16, primary_storage_type='SSD', primary_storage_capacity=512, secondary_storage_type='No secondary storage', secondary_storage_capacity=0, gpu_brand='nvidia', gpu_type='dedicated', is_touch_screen='False', display_size=16.0, resolution_width=2560, resolution_height=1600, OS='windows', year_of_warranty='1'),\n",
       " Row(index='525', brand='hp', Model='HP Omen 16-xf0043AX Gaming Laptop (AMD Ryzen 9 7940HS/ 32GB/ 1TB SSD/ Win11/ 8GB Graph)', Price=182990, rating=78, processor_brand='amd', processor_tier='ryzen 9', num_cores=8, num_threads=16, ram_memory=32, primary_storage_type='SSD', primary_storage_capacity=1024, secondary_storage_type='No secondary storage', secondary_storage_capacity=0, gpu_brand='nvidia', gpu_type='dedicated', is_touch_screen='False', display_size=16.100000381469727, resolution_width=2560, resolution_height=1440, OS='windows', year_of_warranty='1'),\n",
       " Row(index='583', brand='asus', Model='Asus Vivobook Pro 15 M6500QFB-LK742WS Laptop (Ryzen 7 5800H/ 16GB/ 512GB SSD/ Win11/ 4GB Graph)', Price=72990, rating=72, processor_brand='amd', processor_tier='ryzen 7', num_cores=8, num_threads=16, ram_memory=16, primary_storage_type='SSD', primary_storage_capacity=512, secondary_storage_type='No secondary storage', secondary_storage_capacity=0, gpu_brand='nvidia', gpu_type='dedicated', is_touch_screen='False', display_size=15.600000381469727, resolution_width=1920, resolution_height=1080, OS='windows', year_of_warranty='1'),\n",
       " Row(index='593', brand='lenovo', Model='Lenovo LOQ 15APH8 82XT004HIN 2023 Gaming Laptop (AMD Ryzen 7 7840HS/ 16GB/ 512GB SSD/ Win11/ 6GB Graph)', Price=88527, rating=73, processor_brand='amd', processor_tier='ryzen 7', num_cores=8, num_threads=16, ram_memory=16, primary_storage_type='SSD', primary_storage_capacity=512, secondary_storage_type='No secondary storage', secondary_storage_capacity=0, gpu_brand='nvidia', gpu_type='dedicated', is_touch_screen='False', display_size=15.600000381469727, resolution_width=1920, resolution_height=1080, OS='windows', year_of_warranty='1'),\n",
       " Row(index='596', brand='lenovo', Model='Lenovo LOQ 15APH8 82XT004JIN 2023 Gaming Laptop (AMD Ryzen 7 7840HS/ 16GB/ 512GB SSD/ Win11/ 6GB Graph)', Price=99990, rating=73, processor_brand='amd', processor_tier='ryzen 7', num_cores=8, num_threads=16, ram_memory=16, primary_storage_type='SSD', primary_storage_capacity=512, secondary_storage_type='No secondary storage', secondary_storage_capacity=0, gpu_brand='nvidia', gpu_type='dedicated', is_touch_screen='False', display_size=15.600000381469727, resolution_width=1920, resolution_height=1080, OS='windows', year_of_warranty='1'),\n",
       " Row(index='598', brand='lenovo', Model='Lenovo LOQ 15APH8 82XT009CIN 2023 Gaming Laptop (AMD Ryzen 7 7840HS/ 16GB/ 512GB SSD/ Win11/ 8GB Graph)', Price=109990, rating=75, processor_brand='amd', processor_tier='ryzen 7', num_cores=8, num_threads=16, ram_memory=16, primary_storage_type='SSD', primary_storage_capacity=512, secondary_storage_type='No secondary storage', secondary_storage_capacity=0, gpu_brand='nvidia', gpu_type='dedicated', is_touch_screen='False', display_size=15.600000381469727, resolution_width=1920, resolution_height=1080, OS='windows', year_of_warranty='1'),\n",
       " Row(index='599', brand='hp', Model='HP Omen 16-xf0059AX Gaming Laptop (AMD Ryzen 7 7840HS/ 16GB/ 512GB SSD/ Win11/ 8GB Graph)', Price=123010, rating=73, processor_brand='amd', processor_tier='ryzen 7', num_cores=8, num_threads=16, ram_memory=16, primary_storage_type='SSD', primary_storage_capacity=512, secondary_storage_type='No secondary storage', secondary_storage_capacity=0, gpu_brand='nvidia', gpu_type='dedicated', is_touch_screen='False', display_size=16.0, resolution_width=1920, resolution_height=1080, OS='windows', year_of_warranty='1'),\n",
       " Row(index='616', brand='dell', Model='Dell Alienware m16 2023 Gaming Laptop (AMD Ryzen 7 7745HX/ 16GB/ 1TB SSD/ Win 11/ 8GB Graph)', Price=188990, rating=80, processor_brand='amd', processor_tier='ryzen 7', num_cores=8, num_threads=16, ram_memory=16, primary_storage_type='SSD', primary_storage_capacity=1024, secondary_storage_type='No secondary storage', secondary_storage_capacity=0, gpu_brand='nvidia', gpu_type='dedicated', is_touch_screen='False', display_size=16.0, resolution_width=1920, resolution_height=1200, OS='windows', year_of_warranty='1'),\n",
       " Row(index='625', brand='lenovo', Model='Lenovo IdeaPad Flex 5 82R900D9IN Laptop (AMD Ryzen 7 5700U/ 16GB/ 512GB SSD/ Win11 Home)', Price=64990, rating=72, processor_brand='amd', processor_tier='ryzen 7', num_cores=8, num_threads=16, ram_memory=16, primary_storage_type='SSD', primary_storage_capacity=512, secondary_storage_type='No secondary storage', secondary_storage_capacity=0, gpu_brand='amd', gpu_type='integrated', is_touch_screen='True', display_size=14.0, resolution_width=1920, resolution_height=1200, OS='windows', year_of_warranty='1'),\n",
       " Row(index='631', brand='dell', Model='Dell Alienware m16 Gaming Laptop (AMD Ryzen 9 7845HX/ 32GB/ 2TB SSD/ Win 11/ 12GB Graph)', Price=299990, rating=89, processor_brand='amd', processor_tier='ryzen 9', num_cores=12, num_threads=24, ram_memory=32, primary_storage_type='SSD', primary_storage_capacity=2048, secondary_storage_type='No secondary storage', secondary_storage_capacity=0, gpu_brand='nvidia', gpu_type='dedicated', is_touch_screen='False', display_size=16.0, resolution_width=1920, resolution_height=1200, OS='windows', year_of_warranty='1'),\n",
       " Row(index='632', brand='acer', Model='Acer Nitro 16 AN16-41 Gaming Laptop (AMD Ryzen 7 7840HS/ 16GB/ 512GB SSD/ Win11 Home/ 8GB Graph)', Price=129990, rating=80, processor_brand='amd', processor_tier='ryzen 7', num_cores=8, num_threads=16, ram_memory=16, primary_storage_type='SSD', primary_storage_capacity=512, secondary_storage_type='No secondary storage', secondary_storage_capacity=0, gpu_brand='nvidia', gpu_type='dedicated', is_touch_screen='False', display_size=16.0, resolution_width=1920, resolution_height=1200, OS='windows', year_of_warranty='1'),\n",
       " Row(index='636', brand='asus', Model='Asus Vivobook Pro 15 M6500QC-LK742WS Laptop (Ryzen 7 5800H/ 16GB/ 512GB SSD/ Win11/ 4GB Graph)', Price=76600, rating=72, processor_brand='amd', processor_tier='ryzen 7', num_cores=8, num_threads=16, ram_memory=16, primary_storage_type='SSD', primary_storage_capacity=512, secondary_storage_type='No secondary storage', secondary_storage_capacity=0, gpu_brand='nvidia', gpu_type='dedicated', is_touch_screen='False', display_size=15.600000381469727, resolution_width=1920, resolution_height=1080, OS='windows', year_of_warranty='1'),\n",
       " Row(index='644', brand='lg', Model='LG UltraPC 16 16U70R-G.AH56A2 Laptop (AMD Ryzen5-7530U/ 16GB/ 512GB SSD/ Win11)', Price=78299, rating=72, processor_brand='amd', processor_tier='ryzen 5', num_cores=6, num_threads=12, ram_memory=16, primary_storage_type='SSD', primary_storage_capacity=512, secondary_storage_type='No secondary storage', secondary_storage_capacity=0, gpu_brand='amd', gpu_type='integrated', is_touch_screen='True', display_size=16.0, resolution_width=1920, resolution_height=1200, OS='windows', year_of_warranty='1'),\n",
       " Row(index='696', brand='asus', Model='Asus ROG Zephyrus G14 2023 GA402XU-N2045WS Gaming Laptop (AMD Ryzen 9 7940HS/ 16GB/ 1TB SSD/ Win11/ 6GB Graph)', Price=139990, rating=83, processor_brand='amd', processor_tier='ryzen 9', num_cores=8, num_threads=16, ram_memory=16, primary_storage_type='SSD', primary_storage_capacity=1024, secondary_storage_type='No secondary storage', secondary_storage_capacity=0, gpu_brand='nvidia', gpu_type='dedicated', is_touch_screen='False', display_size=14.0, resolution_width=2560, resolution_height=1600, OS='windows', year_of_warranty='1'),\n",
       " Row(index='720', brand='msi', Model='MSI Bravo 15 C7VFK-087IN Gaming Laptop (AMD Ryzen 7 7735HS/ 16GB/ 1TB SSD/ Win11 Home/ 8GB Graph)', Price=104990, rating=78, processor_brand='amd', processor_tier='ryzen 7', num_cores=8, num_threads=16, ram_memory=16, primary_storage_type='SSD', primary_storage_capacity=1024, secondary_storage_type='No secondary storage', secondary_storage_capacity=0, gpu_brand='nvidia', gpu_type='dedicated', is_touch_screen='False', display_size=15.600000381469727, resolution_width=1920, resolution_height=1080, OS='windows', year_of_warranty='1'),\n",
       " Row(index='722', brand='msi', Model='MSI Bravo 15 C7VEK-088IN Gaming Laptop (AMD Ryzen 7 7735HS/ 16GB/ 1TB SSD/ Win11 Home/ 6GB Graph)', Price=94990, rating=77, processor_brand='amd', processor_tier='ryzen 7', num_cores=8, num_threads=16, ram_memory=16, primary_storage_type='SSD', primary_storage_capacity=1024, secondary_storage_type='No secondary storage', secondary_storage_capacity=0, gpu_brand='nvidia', gpu_type='dedicated', is_touch_screen='False', display_size=15.600000381469727, resolution_width=1920, resolution_height=1080, OS='windows', year_of_warranty='1'),\n",
       " Row(index='726', brand='msi', Model='MSI Bravo 17 C7VEK-035IN Gaming Laptop (AMD Ryzen 7 7735HS/ 16GB/ 1TB SSD/ Win11 Home/ 6GB Graph)', Price=94990, rating=77, processor_brand='amd', processor_tier='ryzen 7', num_cores=8, num_threads=16, ram_memory=16, primary_storage_type='SSD', primary_storage_capacity=1024, secondary_storage_type='No secondary storage', secondary_storage_capacity=0, gpu_brand='nvidia', gpu_type='dedicated', is_touch_screen='False', display_size=17.299999237060547, resolution_width=1920, resolution_height=1080, OS='windows', year_of_warranty='1'),\n",
       " Row(index='727', brand='msi', Model='MSI Bravo 15 C7VEK-089IN Gaming Laptop (AMD Ryzen 5 7535HS/ 16GB/ 512GB SSD/ Win11 Home/ 6GB Graph)', Price=84990, rating=75, processor_brand='amd', processor_tier='ryzen 5', num_cores=6, num_threads=12, ram_memory=16, primary_storage_type='SSD', primary_storage_capacity=512, secondary_storage_type='No secondary storage', secondary_storage_capacity=0, gpu_brand='nvidia', gpu_type='dedicated', is_touch_screen='False', display_size=15.600000381469727, resolution_width=1920, resolution_height=1080, OS='windows', year_of_warranty='1'),\n",
       " Row(index='736', brand='lg', Model='LG UltraPC 16 16U70R-G.AH76A2 Laptop (AMD Ryzen7-7730U/ 16GB/ 512GB SSD/ Win11)', Price=89799, rating=75, processor_brand='amd', processor_tier='ryzen 7', num_cores=8, num_threads=16, ram_memory=16, primary_storage_type='SSD', primary_storage_capacity=512, secondary_storage_type='No secondary storage', secondary_storage_capacity=0, gpu_brand='amd', gpu_type='integrated', is_touch_screen='True', display_size=16.0, resolution_width=1920, resolution_height=1200, OS='windows', year_of_warranty='1'),\n",
       " Row(index='738', brand='hp', Model='HP Zbook Power G4-A Laptop (AMD Ryzen 7 6800H/ 16GB/ 1TB SSD/ Win11/ 4GB Graph)', Price=131316, rating=72, processor_brand='amd', processor_tier='ryzen 7', num_cores=8, num_threads=16, ram_memory=16, primary_storage_type='SSD', primary_storage_capacity=1024, secondary_storage_type='No secondary storage', secondary_storage_capacity=0, gpu_brand='nvidia', gpu_type='dedicated', is_touch_screen='False', display_size=15.600000381469727, resolution_width=1920, resolution_height=1080, OS='windows', year_of_warranty='1'),\n",
       " Row(index='812', brand='asus', Model='Asus ROG Zephyrus G14 2023 GA402XV-N2034WS Gaming Laptop (AMD Ryzen 9 7940HS/ 32GB/ 1TB SSD/ Win11/ 8GB Graph)', Price=199990, rating=89, processor_brand='amd', processor_tier='ryzen 9', num_cores=8, num_threads=16, ram_memory=32, primary_storage_type='SSD', primary_storage_capacity=1024, secondary_storage_type='No secondary storage', secondary_storage_capacity=0, gpu_brand='nvidia', gpu_type='dedicated', is_touch_screen='False', display_size=14.0, resolution_width=2560, resolution_height=1600, OS='windows', year_of_warranty='1'),\n",
       " Row(index='813', brand='asus', Model='Asus TUF Gaming A15 2023 FA577XU-LP041WS Gaming Laptop (AMD Ryzen 9 7940HS/ 16GB/ 1TB SSD/ Win11 Home/ 6GB Graph)', Price=131990, rating=84, processor_brand='amd', processor_tier='ryzen 9', num_cores=8, num_threads=16, ram_memory=16, primary_storage_type='SSD', primary_storage_capacity=1024, secondary_storage_type='No secondary storage', secondary_storage_capacity=0, gpu_brand='nvidia', gpu_type='dedicated', is_touch_screen='False', display_size=15.600000381469727, resolution_width=1920, resolution_height=1080, OS='windows', year_of_warranty='1'),\n",
       " Row(index='815', brand='asus', Model='Asus TUF Gaming A15 2023 FA577XV-HQ036WS Gaming Laptop (AMD Ryzen 9 7940HS/ 16GB/ 1TB SSD/ Win11 Home/ 8GB Graph)', Price=154990, rating=83, processor_brand='amd', processor_tier='ryzen 9', num_cores=8, num_threads=16, ram_memory=16, primary_storage_type='SSD', primary_storage_capacity=1024, secondary_storage_type='No secondary storage', secondary_storage_capacity=0, gpu_brand='nvidia', gpu_type='dedicated', is_touch_screen='False', display_size=15.600000381469727, resolution_width=2560, resolution_height=1440, OS='windows', year_of_warranty='1'),\n",
       " Row(index='818', brand='asus', Model='Asus TUF Gaming A15 FA577NU-LP082W Gaming Laptop (AMD Ryzen 7 7735HS/ 16GB/ 512GB SSD/ Win11/ 6GB Graph)', Price=94990, rating=77, processor_brand='amd', processor_tier='ryzen 7', num_cores=8, num_threads=16, ram_memory=16, primary_storage_type='SSD', primary_storage_capacity=512, secondary_storage_type='No secondary storage', secondary_storage_capacity=0, gpu_brand='nvidia', gpu_type='dedicated', is_touch_screen='False', display_size=15.600000381469727, resolution_width=1920, resolution_height=1080, OS='windows', year_of_warranty='1'),\n",
       " Row(index='819', brand='asus', Model='Asus ROG Zephyrus G14 2023 GA402XZ-N2020WS Gaming Laptop (AMD Ryzen 9 7940HS/ 32GB/ 1TB SSD/ Win11/ 12GB Graph)', Price=260990, rating=89, processor_brand='amd', processor_tier='ryzen 9', num_cores=8, num_threads=16, ram_memory=32, primary_storage_type='SSD', primary_storage_capacity=1024, secondary_storage_type='No secondary storage', secondary_storage_capacity=0, gpu_brand='nvidia', gpu_type='dedicated', is_touch_screen='False', display_size=14.0, resolution_width=2560, resolution_height=1600, OS='windows', year_of_warranty='1'),\n",
       " Row(index='820', brand='asus', Model='Asus ROG Zephyrus G14 2023 GA402NU-N2023WS Gaming Laptop (AMD Ryzen 7 7735HS/ 16GB/ 1TB SSD/ Win11/ 6GB Graph)', Price=149990, rating=76, processor_brand='amd', processor_tier='ryzen 7', num_cores=8, num_threads=16, ram_memory=16, primary_storage_type='SSD', primary_storage_capacity=1024, secondary_storage_type='No secondary storage', secondary_storage_capacity=0, gpu_brand='nvidia', gpu_type='dedicated', is_touch_screen='False', display_size=14.0, resolution_width=2560, resolution_height=1600, OS='windows', year_of_warranty='1'),\n",
       " Row(index='821', brand='asus', Model='Asus TUF Gaming A17 FA777XU-HX026WS Gaming Laptop (AMD Ryzen 9 7940HS / 16GB/ 1TB SSD/ Win11 Home/ 6GB Graph)', Price=134990, rating=80, processor_brand='amd', processor_tier='ryzen 9', num_cores=8, num_threads=16, ram_memory=16, primary_storage_type='SSD', primary_storage_capacity=1024, secondary_storage_type='No secondary storage', secondary_storage_capacity=0, gpu_brand='nvidia', gpu_type='dedicated', is_touch_screen='False', display_size=17.299999237060547, resolution_width=1920, resolution_height=1080, OS='windows', year_of_warranty='1'),\n",
       " Row(index='896', brand='hp', Model='HP Omen 16-n0123AX Gaming Laptop (AMD Ryzen 7 6800H/ 16GB/ 1TB SSD/ Win11/ 8GB Graph)', Price=119990, rating=77, processor_brand='amd', processor_tier='ryzen 7', num_cores=8, num_threads=16, ram_memory=16, primary_storage_type='SSD', primary_storage_capacity=1024, secondary_storage_type='No secondary storage', secondary_storage_capacity=0, gpu_brand='nvidia', gpu_type='dedicated', is_touch_screen='False', display_size=16.100000381469727, resolution_width=2560, resolution_height=1440, OS='windows', year_of_warranty='1'),\n",
       " Row(index='902', brand='acer', Model='Acer Nitro 5 AN515-47 2023 Gaming Laptop (AMD Ryzen 5 7535HS/ 16GB/ 512GB SSD/ Win11/ 4GB Graph)', Price=68990, rating=73, processor_brand='amd', processor_tier='ryzen 5', num_cores=6, num_threads=12, ram_memory=16, primary_storage_type='SSD', primary_storage_capacity=512, secondary_storage_type='No secondary storage', secondary_storage_capacity=0, gpu_brand='nvidia', gpu_type='dedicated', is_touch_screen='False', display_size=15.600000381469727, resolution_width=1920, resolution_height=1080, OS='windows', year_of_warranty='1'),\n",
       " Row(index='904', brand='acer', Model='Acer Nitro 5 AN515-47 Gaming Laptop (AMD Ryzen 7 7735HS/ 16GB/ 512GB SSD/ Win11 Home/ 4GB Graph)', Price=77890, rating=72, processor_brand='amd', processor_tier='ryzen 7', num_cores=8, num_threads=16, ram_memory=16, primary_storage_type='SSD', primary_storage_capacity=512, secondary_storage_type='No secondary storage', secondary_storage_capacity=0, gpu_brand='nvidia', gpu_type='dedicated', is_touch_screen='False', display_size=15.600000381469727, resolution_width=1920, resolution_height=1080, OS='windows', year_of_warranty='1'),\n",
       " Row(index='932', brand='msi', Model='MSI Bravo 15 B5ED-035IN Gaming Laptop (AMD Ryzen 7 / 16GB/ 512GB SSD/ Win11 Home/ 4GB Graph)', Price=61990, rating=72, processor_brand='amd', processor_tier='ryzen 7', num_cores=8, num_threads=16, ram_memory=16, primary_storage_type='SSD', primary_storage_capacity=512, secondary_storage_type='No secondary storage', secondary_storage_capacity=0, gpu_brand='amd', gpu_type='dedicated', is_touch_screen='False', display_size=15.600000381469727, resolution_width=1920, resolution_height=1080, OS='windows', year_of_warranty='1'),\n",
       " Row(index='982', brand='asus', Model='Asus Vivobook Pro 15 M6500QC-HN742WS Laptop (Ryzen 7 5800H/ 16GB/ 512GB SSD/ Win11/ 4GB Graph)', Price=68990, rating=72, processor_brand='amd', processor_tier='ryzen 7', num_cores=8, num_threads=16, ram_memory=16, primary_storage_type='SSD', primary_storage_capacity=512, secondary_storage_type='No secondary storage', secondary_storage_capacity=0, gpu_brand='nvidia', gpu_type='dedicated', is_touch_screen='False', display_size=15.600000381469727, resolution_width=1920, resolution_height=1080, OS='windows', year_of_warranty='1')]"
      ]
     },
     "execution_count": 41,
     "metadata": {},
     "output_type": "execute_result"
    }
   ],
   "source": [
    "amd"
   ]
  }
 ],
 "metadata": {
  "kernelspec": {
   "display_name": "Python 3",
   "language": "python",
   "name": "python3"
  },
  "language_info": {
   "codemirror_mode": {
    "name": "ipython",
    "version": 3
   },
   "file_extension": ".py",
   "mimetype": "text/x-python",
   "name": "python",
   "nbconvert_exporter": "python",
   "pygments_lexer": "ipython3",
   "version": "3.11.4"
  }
 },
 "nbformat": 4,
 "nbformat_minor": 2
}
